{
 "cells": [
  {
   "cell_type": "markdown",
   "metadata": {},
   "source": [
    "# Shape Matching\n",
    "This script matches the shapes between a geometry extracted from the historical map and its current counterpart with the aim to define control points for a subsequent georeferencing. Here, an example is shown based on the geometry of the *St. Katharinen Kirche*."
   ]
  },
  {
   "cell_type": "code",
   "execution_count": 1,
   "metadata": {
    "ExecuteTime": {
     "end_time": "2022-07-26T11:11:38.025688Z",
     "start_time": "2022-07-26T11:11:27.787101Z"
    }
   },
   "outputs": [],
   "source": [
    "import geopandas as gpd\n",
    "import matplotlib.pyplot as plt\n",
    "import numpy as np\n",
    "import rasterio\n",
    "import rasterio.features\n",
    "import shapely\n",
    "import warnings\n",
    "\n",
    "from IPython.display import Image\n",
    "from osgeo import gdal\n",
    "from PIL import Image\n",
    "from shapely.geometry import MultiPoint, Point"
   ]
  },
  {
   "cell_type": "code",
   "execution_count": 3,
   "metadata": {
    "ExecuteTime": {
     "end_time": "2022-07-26T11:12:01.938508Z",
     "start_time": "2022-07-26T11:12:01.932501Z"
    }
   },
   "outputs": [],
   "source": [
    "# for anonymized version\n",
    "warnings.filterwarnings(\"ignore\", category=rasterio.errors.NotGeoreferencedWarning)"
   ]
  },
  {
   "cell_type": "markdown",
   "metadata": {},
   "source": [
    "# 1) Import data\n",
    "historical as well as current dataset"
   ]
  },
  {
   "cell_type": "code",
   "execution_count": 5,
   "metadata": {
    "ExecuteTime": {
     "end_time": "2022-07-26T11:14:01.505742Z",
     "start_time": "2022-07-26T11:14:01.203732Z"
    }
   },
   "outputs": [],
   "source": [
    "# (Historical) Public buildings\n",
    "historical_publicbuildings = gpd.read_file(\"data\\\\Historical_PublicBuildings_polygonized.shp\") # WGS84"
   ]
  },
  {
   "cell_type": "code",
   "execution_count": 6,
   "metadata": {
    "ExecuteTime": {
     "end_time": "2022-07-26T11:14:16.827476Z",
     "start_time": "2022-07-26T11:14:16.466887Z"
    }
   },
   "outputs": [],
   "source": [
    "# Current churches\n",
    "current_churches = gpd.read_file(\"data\\\\Current_Churches.shp\") # UTM"
   ]
  },
  {
   "cell_type": "markdown",
   "metadata": {},
   "source": [
    "# 2) Extract single churches\n",
    "from both datasets and plot them"
   ]
  },
  {
   "cell_type": "markdown",
   "metadata": {
    "heading_collapsed": true
   },
   "source": [
    "## 2.1) St.-Katharinen-Kirche"
   ]
  },
  {
   "cell_type": "code",
   "execution_count": 8,
   "metadata": {
    "ExecuteTime": {
     "end_time": "2022-07-26T11:14:30.032052Z",
     "start_time": "2022-07-26T11:14:29.956678Z"
    },
    "hidden": true
   },
   "outputs": [
    {
     "data": {
      "text/html": [
       "<div>\n",
       "<style scoped>\n",
       "    .dataframe tbody tr th:only-of-type {\n",
       "        vertical-align: middle;\n",
       "    }\n",
       "\n",
       "    .dataframe tbody tr th {\n",
       "        vertical-align: top;\n",
       "    }\n",
       "\n",
       "    .dataframe thead th {\n",
       "        text-align: right;\n",
       "    }\n",
       "</style>\n",
       "<table border=\"1\" class=\"dataframe\">\n",
       "  <thead>\n",
       "    <tr style=\"text-align: right;\">\n",
       "      <th></th>\n",
       "      <th>fid</th>\n",
       "      <th>identifier</th>\n",
       "      <th>beginnt</th>\n",
       "      <th>advStandar</th>\n",
       "      <th>gebaeudefu</th>\n",
       "      <th>anzahlDerO</th>\n",
       "      <th>grundflaec</th>\n",
       "      <th>grundfla_1</th>\n",
       "      <th>AX_Datener</th>\n",
       "      <th>dachform</th>\n",
       "      <th>...</th>\n",
       "      <th>baujahr</th>\n",
       "      <th>dachart</th>\n",
       "      <th>bauweise</th>\n",
       "      <th>weitereGeb</th>\n",
       "      <th>AX_LI_Proc</th>\n",
       "      <th>CharacterS</th>\n",
       "      <th>CI_RoleCod</th>\n",
       "      <th>lageZurErd</th>\n",
       "      <th>sourceFile</th>\n",
       "      <th>geometry</th>\n",
       "    </tr>\n",
       "  </thead>\n",
       "  <tbody>\n",
       "    <tr>\n",
       "      <th>178</th>\n",
       "      <td>214282.0</td>\n",
       "      <td>urn:adv:oid:DEHHALKAJ0000pO5</td>\n",
       "      <td>2014-03-10T06:32:11Z</td>\n",
       "      <td>DLKM</td>\n",
       "      <td>3041</td>\n",
       "      <td>3</td>\n",
       "      <td>2372.0</td>\n",
       "      <td>urn:adv:uom:m2</td>\n",
       "      <td>NaN</td>\n",
       "      <td>5000.0</td>\n",
       "      <td>...</td>\n",
       "      <td>1967</td>\n",
       "      <td>None</td>\n",
       "      <td>NaN</td>\n",
       "      <td>None</td>\n",
       "      <td>None</td>\n",
       "      <td>NaN</td>\n",
       "      <td>None</td>\n",
       "      <td>None</td>\n",
       "      <td>ALKIS_HH_0122.xml</td>\n",
       "      <td>POLYGON ((565855.580 5933463.313, 565855.251 5...</td>\n",
       "    </tr>\n",
       "  </tbody>\n",
       "</table>\n",
       "<p>1 rows × 23 columns</p>\n",
       "</div>"
      ],
      "text/plain": [
       "          fid                    identifier               beginnt advStandar  \\\n",
       "178  214282.0  urn:adv:oid:DEHHALKAJ0000pO5  2014-03-10T06:32:11Z       DLKM   \n",
       "\n",
       "     gebaeudefu  anzahlDerO  grundflaec      grundfla_1  AX_Datener  dachform  \\\n",
       "178        3041           3      2372.0  urn:adv:uom:m2         NaN    5000.0   \n",
       "\n",
       "     ... baujahr  dachart bauweise weitereGeb AX_LI_Proc  CharacterS  \\\n",
       "178  ...    1967     None      NaN       None       None         NaN   \n",
       "\n",
       "    CI_RoleCod lageZurErd         sourceFile  \\\n",
       "178       None       None  ALKIS_HH_0122.xml   \n",
       "\n",
       "                                              geometry  \n",
       "178  POLYGON ((565855.580 5933463.313, 565855.251 5...  \n",
       "\n",
       "[1 rows x 23 columns]"
      ]
     },
     "execution_count": 8,
     "metadata": {},
     "output_type": "execute_result"
    }
   ],
   "source": [
    "# Current St.-Katharinen-Kirche\n",
    "StKatharinen_current = current_churches[current_churches[\"name\"] == \"St.-Katharinen-Kirche\"]\n",
    "StKatharinen_current"
   ]
  },
  {
   "cell_type": "code",
   "execution_count": 9,
   "metadata": {
    "ExecuteTime": {
     "end_time": "2022-07-26T11:14:31.014498Z",
     "start_time": "2022-07-26T11:14:30.994918Z"
    },
    "hidden": true
   },
   "outputs": [],
   "source": [
    "# Historical St.-Katharinen-Kirche\n",
    "StKatharinen_historical = historical_publicbuildings.loc[[6],'geometry']"
   ]
  },
  {
   "cell_type": "code",
   "execution_count": 10,
   "metadata": {
    "ExecuteTime": {
     "end_time": "2022-07-26T11:14:32.327445Z",
     "start_time": "2022-07-26T11:14:31.778186Z"
    },
    "hidden": true
   },
   "outputs": [
    {
     "data": {
      "text/plain": [
       "<matplotlib.axes._subplots.AxesSubplot at 0x21b6e06bd88>"
      ]
     },
     "execution_count": 10,
     "metadata": {},
     "output_type": "execute_result"
    },
    {
     "data": {
      "image/png": "[encoded data removed]",
      "text/plain": [
       "<Figure size 1080x432 with 2 Axes>"
      ]
     },
     "metadata": {
      "needs_background": "light"
     },
     "output_type": "display_data"
    }
   ],
   "source": [
    "# plot\n",
    "fig, (ax1, ax2) = plt.subplots(1, 2, figsize = (15, 6))\n",
    "\n",
    "ax1.set_title('Current', fontsize=14)\n",
    "ax2.set_title('Historical', fontsize=14)\n",
    "plt.suptitle('St.-Katharinen-Kirche',fontsize=20)\n",
    "\n",
    "StKatharinen_current.plot(ax=ax1)\n",
    "StKatharinen_historical.plot(ax=ax2)"
   ]
  },
  {
   "cell_type": "markdown",
   "metadata": {
    "heading_collapsed": true
   },
   "source": [
    "## 2.2) St.-Petri-Kirche"
   ]
  },
  {
   "cell_type": "code",
   "execution_count": 11,
   "metadata": {
    "ExecuteTime": {
     "end_time": "2022-07-26T11:14:34.062866Z",
     "start_time": "2022-07-26T11:14:34.010841Z"
    },
    "hidden": true
   },
   "outputs": [
    {
     "data": {
      "text/html": [
       "<div>\n",
       "<style scoped>\n",
       "    .dataframe tbody tr th:only-of-type {\n",
       "        vertical-align: middle;\n",
       "    }\n",
       "\n",
       "    .dataframe tbody tr th {\n",
       "        vertical-align: top;\n",
       "    }\n",
       "\n",
       "    .dataframe thead th {\n",
       "        text-align: right;\n",
       "    }\n",
       "</style>\n",
       "<table border=\"1\" class=\"dataframe\">\n",
       "  <thead>\n",
       "    <tr style=\"text-align: right;\">\n",
       "      <th></th>\n",
       "      <th>fid</th>\n",
       "      <th>identifier</th>\n",
       "      <th>beginnt</th>\n",
       "      <th>advStandar</th>\n",
       "      <th>gebaeudefu</th>\n",
       "      <th>anzahlDerO</th>\n",
       "      <th>grundflaec</th>\n",
       "      <th>grundfla_1</th>\n",
       "      <th>AX_Datener</th>\n",
       "      <th>dachform</th>\n",
       "      <th>...</th>\n",
       "      <th>baujahr</th>\n",
       "      <th>dachart</th>\n",
       "      <th>bauweise</th>\n",
       "      <th>weitereGeb</th>\n",
       "      <th>AX_LI_Proc</th>\n",
       "      <th>CharacterS</th>\n",
       "      <th>CI_RoleCod</th>\n",
       "      <th>lageZurErd</th>\n",
       "      <th>sourceFile</th>\n",
       "      <th>geometry</th>\n",
       "    </tr>\n",
       "  </thead>\n",
       "  <tbody>\n",
       "    <tr>\n",
       "      <th>228</th>\n",
       "      <td>276819.0</td>\n",
       "      <td>urn:adv:oid:DEHHALKAJ00011uJ</td>\n",
       "      <td>2014-03-10T06:32:11Z</td>\n",
       "      <td>DLKM</td>\n",
       "      <td>3041</td>\n",
       "      <td>1</td>\n",
       "      <td>2023.0</td>\n",
       "      <td>urn:adv:uom:m2</td>\n",
       "      <td>NaN</td>\n",
       "      <td>3100.0</td>\n",
       "      <td>...</td>\n",
       "      <td>None</td>\n",
       "      <td>None</td>\n",
       "      <td>NaN</td>\n",
       "      <td>None</td>\n",
       "      <td>None</td>\n",
       "      <td>NaN</td>\n",
       "      <td>None</td>\n",
       "      <td>None</td>\n",
       "      <td>ALKIS_HH_0123.xml</td>\n",
       "      <td>POLYGON ((566003.984 5933973.427, 566004.912 5...</td>\n",
       "    </tr>\n",
       "  </tbody>\n",
       "</table>\n",
       "<p>1 rows × 23 columns</p>\n",
       "</div>"
      ],
      "text/plain": [
       "          fid                    identifier               beginnt advStandar  \\\n",
       "228  276819.0  urn:adv:oid:DEHHALKAJ00011uJ  2014-03-10T06:32:11Z       DLKM   \n",
       "\n",
       "     gebaeudefu  anzahlDerO  grundflaec      grundfla_1  AX_Datener  dachform  \\\n",
       "228        3041           1      2023.0  urn:adv:uom:m2         NaN    3100.0   \n",
       "\n",
       "     ... baujahr  dachart bauweise weitereGeb AX_LI_Proc  CharacterS  \\\n",
       "228  ...    None     None      NaN       None       None         NaN   \n",
       "\n",
       "    CI_RoleCod lageZurErd         sourceFile  \\\n",
       "228       None       None  ALKIS_HH_0123.xml   \n",
       "\n",
       "                                              geometry  \n",
       "228  POLYGON ((566003.984 5933973.427, 566004.912 5...  \n",
       "\n",
       "[1 rows x 23 columns]"
      ]
     },
     "execution_count": 11,
     "metadata": {},
     "output_type": "execute_result"
    }
   ],
   "source": [
    "# Current St.-Petri-Kirche\n",
    "StPetri_current_temp = current_churches[current_churches[\"name\"] == \"St.-Petri-Kirche\"]\n",
    "# as StPetri_current_temp has two entries, we manually select the right one\n",
    "StPetri_current = StPetri_current_temp[StPetri_current_temp[\"fid\"] == 276819]\n",
    "StPetri_current"
   ]
  },
  {
   "cell_type": "code",
   "execution_count": 12,
   "metadata": {
    "ExecuteTime": {
     "end_time": "2022-07-26T11:14:40.908456Z",
     "start_time": "2022-07-26T11:14:40.902454Z"
    },
    "hidden": true
   },
   "outputs": [],
   "source": [
    "# Historical St.-Petri-Kirche\n",
    "StPetri_historical = historical_publicbuildings.loc[[1],'geometry']"
   ]
  },
  {
   "cell_type": "code",
   "execution_count": 13,
   "metadata": {
    "ExecuteTime": {
     "end_time": "2022-07-26T11:14:42.380659Z",
     "start_time": "2022-07-26T11:14:41.914716Z"
    },
    "hidden": true
   },
   "outputs": [
    {
     "data": {
      "text/plain": [
       "<matplotlib.axes._subplots.AxesSubplot at 0x21b6e6f8e08>"
      ]
     },
     "execution_count": 13,
     "metadata": {},
     "output_type": "execute_result"
    },
    {
     "data": {
      "image/png": "[encoded data removed]",
      "text/plain": [
       "<Figure size 1080x432 with 2 Axes>"
      ]
     },
     "metadata": {
      "needs_background": "light"
     },
     "output_type": "display_data"
    }
   ],
   "source": [
    "# plot\n",
    "fig, (ax1, ax2) = plt.subplots(1, 2, figsize = (15, 6))\n",
    "\n",
    "ax1.set_title('Current', fontsize=14)\n",
    "ax2.set_title('Historical', fontsize=14)\n",
    "plt.suptitle('St.-Petri-Kirche',fontsize=20)\n",
    "\n",
    "StPetri_current.plot(ax=ax1)\n",
    "StPetri_historical.plot(ax=ax2)"
   ]
  },
  {
   "cell_type": "markdown",
   "metadata": {
    "heading_collapsed": true
   },
   "source": [
    "## 2.3) St.-Nikolai-Kirche"
   ]
  },
  {
   "cell_type": "code",
   "execution_count": 14,
   "metadata": {
    "ExecuteTime": {
     "end_time": "2022-07-26T11:14:48.062076Z",
     "start_time": "2022-07-26T11:14:48.011244Z"
    },
    "hidden": true
   },
   "outputs": [
    {
     "data": {
      "text/html": [
       "<div>\n",
       "<style scoped>\n",
       "    .dataframe tbody tr th:only-of-type {\n",
       "        vertical-align: middle;\n",
       "    }\n",
       "\n",
       "    .dataframe tbody tr th {\n",
       "        vertical-align: top;\n",
       "    }\n",
       "\n",
       "    .dataframe thead th {\n",
       "        text-align: right;\n",
       "    }\n",
       "</style>\n",
       "<table border=\"1\" class=\"dataframe\">\n",
       "  <thead>\n",
       "    <tr style=\"text-align: right;\">\n",
       "      <th></th>\n",
       "      <th>fid</th>\n",
       "      <th>identifier</th>\n",
       "      <th>beginnt</th>\n",
       "      <th>advStandar</th>\n",
       "      <th>gebaeudefu</th>\n",
       "      <th>anzahlDerO</th>\n",
       "      <th>grundflaec</th>\n",
       "      <th>grundfla_1</th>\n",
       "      <th>AX_Datener</th>\n",
       "      <th>dachform</th>\n",
       "      <th>...</th>\n",
       "      <th>baujahr</th>\n",
       "      <th>dachart</th>\n",
       "      <th>bauweise</th>\n",
       "      <th>weitereGeb</th>\n",
       "      <th>AX_LI_Proc</th>\n",
       "      <th>CharacterS</th>\n",
       "      <th>CI_RoleCod</th>\n",
       "      <th>lageZurErd</th>\n",
       "      <th>sourceFile</th>\n",
       "      <th>geometry</th>\n",
       "    </tr>\n",
       "  </thead>\n",
       "  <tbody>\n",
       "    <tr>\n",
       "      <th>177</th>\n",
       "      <td>214258.0</td>\n",
       "      <td>urn:adv:oid:DEHHALKAJ0000ovW</td>\n",
       "      <td>2014-03-10T06:32:11Z</td>\n",
       "      <td>DLKM</td>\n",
       "      <td>3041</td>\n",
       "      <td>1</td>\n",
       "      <td>487.0</td>\n",
       "      <td>urn:adv:uom:m2</td>\n",
       "      <td>NaN</td>\n",
       "      <td>4000.0</td>\n",
       "      <td>...</td>\n",
       "      <td>None</td>\n",
       "      <td>None</td>\n",
       "      <td>NaN</td>\n",
       "      <td>1120</td>\n",
       "      <td>None</td>\n",
       "      <td>NaN</td>\n",
       "      <td>None</td>\n",
       "      <td>None</td>\n",
       "      <td>ALKIS_HH_0122.xml</td>\n",
       "      <td>POLYGON ((565630.558 5933641.014, 565630.519 5...</td>\n",
       "    </tr>\n",
       "  </tbody>\n",
       "</table>\n",
       "<p>1 rows × 23 columns</p>\n",
       "</div>"
      ],
      "text/plain": [
       "          fid                    identifier               beginnt advStandar  \\\n",
       "177  214258.0  urn:adv:oid:DEHHALKAJ0000ovW  2014-03-10T06:32:11Z       DLKM   \n",
       "\n",
       "     gebaeudefu  anzahlDerO  grundflaec      grundfla_1  AX_Datener  dachform  \\\n",
       "177        3041           1       487.0  urn:adv:uom:m2         NaN    4000.0   \n",
       "\n",
       "     ... baujahr  dachart bauweise weitereGeb AX_LI_Proc  CharacterS  \\\n",
       "177  ...    None     None      NaN       1120       None         NaN   \n",
       "\n",
       "    CI_RoleCod lageZurErd         sourceFile  \\\n",
       "177       None       None  ALKIS_HH_0122.xml   \n",
       "\n",
       "                                              geometry  \n",
       "177  POLYGON ((565630.558 5933641.014, 565630.519 5...  \n",
       "\n",
       "[1 rows x 23 columns]"
      ]
     },
     "execution_count": 14,
     "metadata": {},
     "output_type": "execute_result"
    }
   ],
   "source": [
    "# ALKIS (current) St.-Nikolai-Kirche\n",
    "StNikolai_current = current_churches[current_churches[\"name\"] == \"Mahnmal St. Nikolai\"]\n",
    "StNikolai_current"
   ]
  },
  {
   "cell_type": "code",
   "execution_count": 15,
   "metadata": {
    "ExecuteTime": {
     "end_time": "2022-07-26T11:14:48.343071Z",
     "start_time": "2022-07-26T11:14:48.332074Z"
    },
    "hidden": true
   },
   "outputs": [],
   "source": [
    "# Lindley (historical) St.-Nikolai-Kirche\n",
    "StNikolai_historical = historical_publicbuildings.loc[[5],'geometry']"
   ]
  },
  {
   "cell_type": "code",
   "execution_count": 16,
   "metadata": {
    "ExecuteTime": {
     "end_time": "2022-07-26T11:14:49.108778Z",
     "start_time": "2022-07-26T11:14:48.595143Z"
    },
    "hidden": true
   },
   "outputs": [
    {
     "data": {
      "text/plain": [
       "<matplotlib.axes._subplots.AxesSubplot at 0x21b6eb069c8>"
      ]
     },
     "execution_count": 16,
     "metadata": {},
     "output_type": "execute_result"
    },
    {
     "data": {
      "image/png": "[encoded data removed]",
      "text/plain": [
       "<Figure size 1080x432 with 2 Axes>"
      ]
     },
     "metadata": {
      "needs_background": "light"
     },
     "output_type": "display_data"
    }
   ],
   "source": [
    "# plot\n",
    "fig, (ax1, ax2) = plt.subplots(1, 2, figsize = (15, 6))\n",
    "\n",
    "ax1.set_title('Current', fontsize=14)\n",
    "ax2.set_title('Historical', fontsize=14)\n",
    "plt.suptitle('St.-Nikolai-Kirche',fontsize=20)\n",
    "\n",
    "StNikolai_current.plot(ax=ax1)\n",
    "StNikolai_historical.plot(ax=ax2)"
   ]
  },
  {
   "cell_type": "markdown",
   "metadata": {
    "heading_collapsed": true
   },
   "source": [
    "## 2.4) Rathaus"
   ]
  },
  {
   "cell_type": "code",
   "execution_count": 17,
   "metadata": {
    "ExecuteTime": {
     "end_time": "2022-07-26T11:15:16.641760Z",
     "start_time": "2022-07-26T11:15:16.139121Z"
    },
    "hidden": true
   },
   "outputs": [],
   "source": [
    "current_buildings = gpd.read_file(\"data\\\\Current_Buildings.shp\") # UTM"
   ]
  },
  {
   "cell_type": "code",
   "execution_count": 18,
   "metadata": {
    "ExecuteTime": {
     "end_time": "2022-07-26T11:15:20.264860Z",
     "start_time": "2022-07-26T11:15:20.210854Z"
    },
    "hidden": true
   },
   "outputs": [
    {
     "data": {
      "text/html": [
       "<div>\n",
       "<style scoped>\n",
       "    .dataframe tbody tr th:only-of-type {\n",
       "        vertical-align: middle;\n",
       "    }\n",
       "\n",
       "    .dataframe tbody tr th {\n",
       "        vertical-align: top;\n",
       "    }\n",
       "\n",
       "    .dataframe thead th {\n",
       "        text-align: right;\n",
       "    }\n",
       "</style>\n",
       "<table border=\"1\" class=\"dataframe\">\n",
       "  <thead>\n",
       "    <tr style=\"text-align: right;\">\n",
       "      <th></th>\n",
       "      <th>fid</th>\n",
       "      <th>identifier</th>\n",
       "      <th>beginnt</th>\n",
       "      <th>advStandar</th>\n",
       "      <th>gebaeudefu</th>\n",
       "      <th>anzahlDerO</th>\n",
       "      <th>grundflaec</th>\n",
       "      <th>grundfla_1</th>\n",
       "      <th>AX_Datener</th>\n",
       "      <th>dachform</th>\n",
       "      <th>...</th>\n",
       "      <th>baujahr</th>\n",
       "      <th>dachart</th>\n",
       "      <th>bauweise</th>\n",
       "      <th>weitereGeb</th>\n",
       "      <th>AX_LI_Proc</th>\n",
       "      <th>CharacterS</th>\n",
       "      <th>CI_RoleCod</th>\n",
       "      <th>lageZurErd</th>\n",
       "      <th>sourceFile</th>\n",
       "      <th>geometry</th>\n",
       "    </tr>\n",
       "  </thead>\n",
       "  <tbody>\n",
       "    <tr>\n",
       "      <th>700</th>\n",
       "      <td>213687.0</td>\n",
       "      <td>urn:adv:oid:DEHHALKAJ0000pBE</td>\n",
       "      <td>2014-03-10T06:32:11Z</td>\n",
       "      <td>DLKM</td>\n",
       "      <td>3012</td>\n",
       "      <td>4.0</td>\n",
       "      <td>5430.0</td>\n",
       "      <td>urn:adv:uom:m2</td>\n",
       "      <td>NaN</td>\n",
       "      <td>5000.0</td>\n",
       "      <td>...</td>\n",
       "      <td>None</td>\n",
       "      <td>None</td>\n",
       "      <td>NaN</td>\n",
       "      <td>1060</td>\n",
       "      <td>None</td>\n",
       "      <td>NaN</td>\n",
       "      <td>None</td>\n",
       "      <td>NaN</td>\n",
       "      <td>ALKIS_HH_0122.xml</td>\n",
       "      <td>POLYGON ((565734.257 5933915.733, 565733.869 5...</td>\n",
       "    </tr>\n",
       "  </tbody>\n",
       "</table>\n",
       "<p>1 rows × 23 columns</p>\n",
       "</div>"
      ],
      "text/plain": [
       "          fid                    identifier               beginnt advStandar  \\\n",
       "700  213687.0  urn:adv:oid:DEHHALKAJ0000pBE  2014-03-10T06:32:11Z       DLKM   \n",
       "\n",
       "     gebaeudefu  anzahlDerO  grundflaec      grundfla_1  AX_Datener  dachform  \\\n",
       "700        3012         4.0      5430.0  urn:adv:uom:m2         NaN    5000.0   \n",
       "\n",
       "     ... baujahr  dachart bauweise weitereGeb AX_LI_Proc  CharacterS  \\\n",
       "700  ...    None     None      NaN       1060       None         NaN   \n",
       "\n",
       "    CI_RoleCod lageZurErd         sourceFile  \\\n",
       "700       None        NaN  ALKIS_HH_0122.xml   \n",
       "\n",
       "                                              geometry  \n",
       "700  POLYGON ((565734.257 5933915.733, 565733.869 5...  \n",
       "\n",
       "[1 rows x 23 columns]"
      ]
     },
     "execution_count": 18,
     "metadata": {},
     "output_type": "execute_result"
    }
   ],
   "source": [
    "# Current Rathaus\n",
    "Rathaus_current = current_buildings[current_buildings[\"name\"] == \"Rathaus\"]\n",
    "Rathaus_current"
   ]
  },
  {
   "cell_type": "code",
   "execution_count": 19,
   "metadata": {
    "ExecuteTime": {
     "end_time": "2022-07-26T11:15:23.490410Z",
     "start_time": "2022-07-26T11:15:23.475421Z"
    },
    "hidden": true
   },
   "outputs": [],
   "source": [
    "# Historical Rathaus\n",
    "Rathaus_historical = historical_publicbuildings.loc[[2],'geometry']"
   ]
  },
  {
   "cell_type": "code",
   "execution_count": 20,
   "metadata": {
    "ExecuteTime": {
     "end_time": "2022-07-26T11:15:24.324392Z",
     "start_time": "2022-07-26T11:15:23.777109Z"
    },
    "hidden": true
   },
   "outputs": [
    {
     "data": {
      "text/plain": [
       "<matplotlib.axes._subplots.AxesSubplot at 0x21b6eda0548>"
      ]
     },
     "execution_count": 20,
     "metadata": {},
     "output_type": "execute_result"
    },
    {
     "data": {
      "image/png": "[encoded data removed]",
      "text/plain": [
       "<Figure size 1080x432 with 2 Axes>"
      ]
     },
     "metadata": {
      "needs_background": "light"
     },
     "output_type": "display_data"
    }
   ],
   "source": [
    "# plot\n",
    "fig, (ax1, ax2) = plt.subplots(1, 2, figsize = (15, 6))\n",
    "\n",
    "ax1.set_title('Current', fontsize=14)\n",
    "ax2.set_title('Historical', fontsize=14)\n",
    "plt.suptitle('Rathaus',fontsize=20)\n",
    "\n",
    "Rathaus_current.plot(ax=ax1)\n",
    "Rathaus_historical.plot(ax=ax2)"
   ]
  },
  {
   "cell_type": "markdown",
   "metadata": {},
   "source": [
    "## 2.5) all churches & townhall"
   ]
  },
  {
   "cell_type": "code",
   "execution_count": 21,
   "metadata": {
    "ExecuteTime": {
     "end_time": "2022-07-26T11:15:29.490284Z",
     "start_time": "2022-07-26T11:15:27.874997Z"
    }
   },
   "outputs": [
    {
     "data": {
      "image/png": "[encoded data removed]",
      "text/plain": [
       "<Figure size 648x1080 with 8 Axes>"
      ]
     },
     "metadata": {
      "needs_background": "light"
     },
     "output_type": "display_data"
    }
   ],
   "source": [
    "fig, axes = plt.subplots(figsize=(9, 15), ncols=2, nrows=4)\n",
    "\n",
    "StKatharinen_current.plot(ax=axes[0][0])\n",
    "axes[0][0].set_title('St.-Katharinen-Kirche Current', fontsize=14)\n",
    "axes[0][0].axis('off')\n",
    "\n",
    "StKatharinen_historical.plot(ax=axes[0][1])\n",
    "axes[0][1].set_title('St.-Katharinen-Kirche Historical', fontsize=14)\n",
    "axes[0][1].axis('off')\n",
    "\n",
    "StPetri_current.plot(ax=axes[1][0])\n",
    "axes[1][0].set_title('St.-Petri-Kirche Current', fontsize=14)\n",
    "axes[1][0].axis('off')\n",
    "\n",
    "StPetri_historical.plot(ax=axes[1][1])\n",
    "axes[1][1].set_title('St.-Petri-Kirche Historical', fontsize=14)\n",
    "axes[1][1].axis('off')\n",
    "\n",
    "StNikolai_current.plot(ax=axes[2][0])\n",
    "axes[2][0].set_title('Mahnmal St. Nikolai Current', fontsize=14)\n",
    "axes[2][0].axis('off')\n",
    "\n",
    "StNikolai_historical.plot(ax=axes[2][1])\n",
    "axes[2][1].set_title('St.-Nikolai-Kirche Historical', fontsize=14)\n",
    "axes[2][1].axis('off')\n",
    "\n",
    "Rathaus_current.plot(ax=axes[3][0])\n",
    "axes[3][0].set_title('Rathaus Current', fontsize=14)\n",
    "axes[3][0].axis('off')\n",
    "\n",
    "Rathaus_historical.plot(ax=axes[3][1])\n",
    "axes[3][1].set_title('Rathaus Historical', fontsize=14)\n",
    "axes[3][1].axis('off')\n",
    "\n",
    "plt.subplots_adjust(hspace=0.3, wspace=0.1) # vertical (hspace) and horizontal (wspace) space between plots"
   ]
  },
  {
   "cell_type": "markdown",
   "metadata": {},
   "source": [
    "# 3) Intersection over Union"
   ]
  },
  {
   "cell_type": "markdown",
   "metadata": {},
   "source": [
    "## 3.1) Prepare data"
   ]
  },
  {
   "cell_type": "markdown",
   "metadata": {
    "ExecuteTime": {
     "end_time": "2022-03-24T12:08:20.053320Z",
     "start_time": "2022-03-24T12:08:20.035320Z"
    }
   },
   "source": [
    "First, we have to create an **envelope** of each geometrie to adjust the sizes of two corresponding geometries.\n",
    "<br><img align=\"left\" width=\"400\" height=\"200\" src=\"https://pro.arcgis.com/de/pro-app/2.8/tool-reference/data-management/GUID-EFBA5DB8-A161-4FE1-B2CB-792B65DC1469-web.png\">\n",
    "<br><br><br><br><br><br><br><br><br><br><br><br><br>\n",
    "<span style=\"font-size:0.7em;\">\n",
    "    (source: https://pro.arcgis.com/de/pro-app/2.8/tool-reference/data-management/minimum-bounding-geometry.htm)</span>"
   ]
  },
  {
   "cell_type": "markdown",
   "metadata": {},
   "source": [
    "### 3.1.1) Create envelope"
   ]
  },
  {
   "cell_type": "code",
   "execution_count": 22,
   "metadata": {
    "ExecuteTime": {
     "end_time": "2022-07-26T11:15:33.928894Z",
     "start_time": "2022-07-26T11:15:33.914872Z"
    }
   },
   "outputs": [],
   "source": [
    "env_StKatharinen_historical = StKatharinen_historical.envelope\n",
    "env_StKatharinen_current = StKatharinen_current.envelope"
   ]
  },
  {
   "cell_type": "code",
   "execution_count": 23,
   "metadata": {
    "ExecuteTime": {
     "end_time": "2022-07-26T11:15:34.778740Z",
     "start_time": "2022-07-26T11:15:34.161802Z"
    }
   },
   "outputs": [
    {
     "data": {
      "text/plain": [
       "<matplotlib.axes._subplots.AxesSubplot at 0x21b6db33488>"
      ]
     },
     "execution_count": 23,
     "metadata": {},
     "output_type": "execute_result"
    },
    {
     "data": {
      "image/png": "[encoded data removed]",
      "text/plain": [
       "<Figure size 1080x432 with 2 Axes>"
      ]
     },
     "metadata": {
      "needs_background": "light"
     },
     "output_type": "display_data"
    }
   ],
   "source": [
    "# plot\n",
    "fig, (ax1, ax2) = plt.subplots(1, 2, figsize = (15, 6))\n",
    "\n",
    "ax1.set_title('Current', fontsize=14)\n",
    "ax2.set_title('Historical', fontsize=14)\n",
    "plt.suptitle('St. Katharinen Envelope',fontsize=20)\n",
    "\n",
    "env_StKatharinen_current.plot(ax=ax1)\n",
    "env_StKatharinen_historical.plot(ax=ax2)"
   ]
  },
  {
   "cell_type": "code",
   "execution_count": 24,
   "metadata": {
    "ExecuteTime": {
     "end_time": "2022-07-26T11:15:36.755033Z",
     "start_time": "2022-07-26T11:15:36.738215Z"
    }
   },
   "outputs": [],
   "source": [
    "# convert GeoSeries to GeoDataFrame\n",
    "env_gdf_StKatharinen_historical = gpd.GeoDataFrame(geometry=gpd.GeoSeries(env_StKatharinen_historical))\n",
    "env_gdf_StKatharinen_current = gpd.GeoDataFrame(geometry=gpd.GeoSeries(env_StKatharinen_current))"
   ]
  },
  {
   "cell_type": "code",
   "execution_count": 25,
   "metadata": {
    "ExecuteTime": {
     "end_time": "2022-07-26T11:15:37.020570Z",
     "start_time": "2022-07-26T11:15:37.004546Z"
    }
   },
   "outputs": [],
   "source": [
    "# add id\n",
    "env_gdf_StKatharinen_historical['id'] = range(1, len(env_gdf_StKatharinen_historical) + 1)\n",
    "env_gdf_StKatharinen_current['id'] = range(1, len(env_gdf_StKatharinen_current) + 1)"
   ]
  },
  {
   "cell_type": "markdown",
   "metadata": {},
   "source": [
    "### 3.1.2) Calculate side lengths of envelope polygons\n",
    "source: https://stackoverflow.com/a/67942238"
   ]
  },
  {
   "cell_type": "code",
   "execution_count": 26,
   "metadata": {
    "ExecuteTime": {
     "end_time": "2022-07-26T11:15:39.272982Z",
     "start_time": "2022-07-26T11:15:39.258981Z"
    }
   },
   "outputs": [],
   "source": [
    "def calculatesidelengths(gdf):\n",
    "    \n",
    "    # Facts about polygon outer vertices\n",
    "    # - first vertex is the same as the last\n",
    "    # - to get segments, ignore zero-th point (use it as from_point in next row)\n",
    "    # create basic lists for creation of new dataframe\n",
    "    indx = []  # for A1, A3\n",
    "    sequ = []  # for seg order\n",
    "    pxy0 = []  # from-point\n",
    "    pxy1 = []  # to-point\n",
    "    \n",
    "    for ix,geom in zip(gdf.id, gdf.geometry):\n",
    "        num_pts = len(geom.exterior.xy[0])\n",
    "        old_xy = []\n",
    "        for inx, (x,y) in enumerate(zip(geom.exterior.xy[0],geom.exterior.xy[1])):\n",
    "            if (inx==0):\n",
    "                # first vertex is the same as the last\n",
    "                pass\n",
    "            else:\n",
    "                indx.append(ix)\n",
    "                sequ.append(inx)\n",
    "                pxy0.append(Point(old_xy))\n",
    "                pxy1.append(Point(x,y))\n",
    "            old_xy = (x,y)\n",
    "\n",
    "    # Create new geodataframe \n",
    "    polygon_segments  = gpd.GeoDataFrame({\"poly_id\": indx,\n",
    "                     \"vertex_id\": sequ,\n",
    "                     \"from_point\": pxy0,\n",
    "                     \"to_point\": pxy1}, geometry=\"to_point\")\n",
    "    \n",
    "    # Compute segment lengths\n",
    "    # Note: seg length is Euclidean distance, ***not geographic***\n",
    "    polygon_segments[\"seg_length\"] = polygon_segments.apply(lambda row: row.from_point.distance(row.to_point), axis=1)\n",
    "    return polygon_segments"
   ]
  },
  {
   "cell_type": "code",
   "execution_count": 27,
   "metadata": {
    "ExecuteTime": {
     "end_time": "2022-07-26T11:15:39.523987Z",
     "start_time": "2022-07-26T11:15:39.491983Z"
    }
   },
   "outputs": [],
   "source": [
    "sidelengths_historical = calculatesidelengths(env_gdf_StKatharinen_historical)\n",
    "sidelengths_current = calculatesidelengths(env_gdf_StKatharinen_current)"
   ]
  },
  {
   "cell_type": "markdown",
   "metadata": {
    "ExecuteTime": {
     "end_time": "2022-03-24T13:05:40.726282Z",
     "start_time": "2022-03-24T13:05:40.695262Z"
    }
   },
   "source": [
    "## 3.2) Compare aspect ratio of the envelopes"
   ]
  },
  {
   "cell_type": "code",
   "execution_count": 28,
   "metadata": {
    "ExecuteTime": {
     "end_time": "2022-07-26T11:15:42.299216Z",
     "start_time": "2022-07-26T11:15:42.283215Z"
    }
   },
   "outputs": [
    {
     "name": "stdout",
     "output_type": "stream",
     "text": [
      "Aspect ratio of \n",
      "width: 0.995 , height: 0.855\n"
     ]
    }
   ],
   "source": [
    "# width\n",
    "aspectratio_width = sidelengths_historical['seg_length'][0] / sidelengths_current['seg_length'][0]\n",
    "# length\n",
    "aspectratio_length = sidelengths_historical['seg_length'][1] / sidelengths_current['seg_length'][1]\n",
    "print(\"Aspect ratio of \\nwidth:\", round(aspectratio_width, 3), \", height:\", round(aspectratio_length, 3))"
   ]
  },
  {
   "cell_type": "markdown",
   "metadata": {},
   "source": [
    "## 3.3) Rasterize polygons\n",
    "**This step was performed manually in QGIS**:<br><br>\n",
    "1) export shape of church and corresponding envelope as shp and import in QGIS"
   ]
  },
  {
   "cell_type": "code",
   "execution_count": 29,
   "metadata": {
    "ExecuteTime": {
     "end_time": "2022-07-26T11:15:49.479627Z",
     "start_time": "2022-07-26T11:15:47.658883Z"
    }
   },
   "outputs": [],
   "source": [
    "# export geodataframes to shapefiles\n",
    "\n",
    "StKatharinen_historical.to_file(\"data\\StKatharinen_historical.shp\", \n",
    "                             crs = {'init' :'epsg:25832'})\n",
    "\n",
    "env_gdf_StKatharinen_historical.to_file(\"data\\StKatharinen_historical_envelope.shp\", \n",
    "                             crs = {'init' :'epsg:25832'})\n",
    "\n",
    "StKatharinen_current.to_file(\"data\\StKatharinen_current.shp\", \n",
    "                           crs = {'init' :'epsg:25832'})\n",
    "\n",
    "env_gdf_StKatharinen_current.to_file(\"data\\StKatharinen_current_envelope.shp\", \n",
    "                                   crs = {'init' :'epsg:25832'})"
   ]
  },
  {
   "cell_type": "markdown",
   "metadata": {},
   "source": [
    "2) Union of church shape and envelope<br>\n",
    "\n",
    "3) Rasterize (Vector to Raster): \n",
    "- Input layer: Union.shp\n",
    "- Output Raster Size Units: Pixel\n",
    "- Width/Horizontal & Height/Vertical resolution: 100\n",
    "- Output extent: Union.shp\n",
    "- Assign a specified nodata value to output bands: 9999\n",
    "- Output: StKatharinen_current.tif / StKatharinen_historical.tif<br>\n",
    "\n",
    "4) r.resample:\n",
    "- Input: StKatharinen_current.tif / StKatharinen_historical.tif\n",
    "- Region cellsize: e.g. 0.36 (smallest width or height from StKatharinen_current.tif and StKatharinen_historical.tif)\n",
    "- Output (Resampled NN): St_Katharinen_current_resampled.tif / St_Katharinen_historical_resampled.tif"
   ]
  },
  {
   "cell_type": "markdown",
   "metadata": {},
   "source": [
    "## 3.4) Compare aspect ratio of the raster images"
   ]
  },
  {
   "cell_type": "code",
   "execution_count": 32,
   "metadata": {
    "ExecuteTime": {
     "end_time": "2022-07-26T11:16:42.724087Z",
     "start_time": "2022-07-26T11:16:42.651092Z"
    }
   },
   "outputs": [
    {
     "name": "stdout",
     "output_type": "stream",
     "text": [
      "ALKIS: 209 x 117 \n",
      "Lindley: 208 x 100 \n",
      "\n",
      "Aspect ratio: Width: 0.995 , Height: 0.855\n"
     ]
    }
   ],
   "source": [
    "StKatharinen_current_resampled = gdal.Open(\"data\\St_Katharinen_current_resampled.tif\")\n",
    "StKatharinen_historical_resampled = gdal.Open(\"data\\St_Katharinen_historical_resampled.tif\")\n",
    "\n",
    "# calculate width & height of raster images\n",
    "current_width = StKatharinen_current_resampled.RasterXSize\n",
    "current_height = StKatharinen_current_resampled.RasterYSize\n",
    "historical_width = StKatharinen_historical_resampled.RasterXSize\n",
    "historical_height = StKatharinen_historical_resampled.RasterYSize\n",
    "\n",
    "# calculate aspect ratio\n",
    "ar_width = historical_width/current_width\n",
    "ar_height = historical_height/current_height\n",
    "\n",
    "print(\"ALKIS:\", StKatharinen_current_resampled.RasterXSize, \"x\", StKatharinen_current_resampled.RasterYSize,\n",
    "      \"\\nLindley:\", StKatharinen_historical_resampled.RasterXSize, \"x\", StKatharinen_historical_resampled.RasterYSize,\n",
    "      \"\\n\\nAspect ratio: Width:\", round(ar_width, 3),\n",
    "      \", Height:\", round(ar_height, 3)\n",
    "     )"
   ]
  },
  {
   "cell_type": "markdown",
   "metadata": {},
   "source": [
    "### 3.4.1) Enlarge smaller raster image"
   ]
  },
  {
   "cell_type": "code",
   "execution_count": 33,
   "metadata": {
    "ExecuteTime": {
     "end_time": "2022-07-26T11:16:51.669491Z",
     "start_time": "2022-07-26T11:16:51.658498Z"
    }
   },
   "outputs": [
    {
     "name": "stdout",
     "output_type": "stream",
     "text": [
      "width difference: 1 '0's must be added within historical data\n",
      "height difference: 17 '0's must be added within historical data\n"
     ]
    }
   ],
   "source": [
    "# check width\n",
    "if current_width != historical_width:\n",
    "    if current_width < historical_width:\n",
    "        print(\"width difference:\", historical_width - current_width, \"'0's must be added within current data\")\n",
    "    else:\n",
    "        print(\"width difference:\", current_width - historical_width, \"'0's must be added within historical data\")\n",
    "\n",
    "# check height\n",
    "if current_height != historical_height:\n",
    "    if current_height < historical_height:\n",
    "        print(\"height difference:\", historical_height - current_height, \"'0's must be added within current data\")\n",
    "    else:\n",
    "        print(\"height difference:\", current_height - historical_height, \"'0's must be added within historical data\")"
   ]
  },
  {
   "cell_type": "code",
   "execution_count": 35,
   "metadata": {
    "ExecuteTime": {
     "end_time": "2022-07-26T11:17:24.157215Z",
     "start_time": "2022-07-26T11:17:23.954231Z"
    }
   },
   "outputs": [],
   "source": [
    "# enlarge the smaller image\n",
    "\n",
    "img = Image.open('data\\St_Katharinen_historical_resampled.tif')\n",
    "\n",
    "# case a): enlarge historical to the size of current\n",
    "img = img.resize((current_width, current_height), Image.ANTIALIAS)\n",
    "img.save('enlarged_multiclass.tif')\n",
    "\n",
    "# TO DO: case b): enlarge current to the size of historical\n",
    "\n",
    "\n",
    "\n"
   ]
  },
  {
   "cell_type": "code",
   "execution_count": 36,
   "metadata": {
    "ExecuteTime": {
     "end_time": "2022-07-26T11:17:28.657706Z",
     "start_time": "2022-07-26T11:17:28.352405Z"
    }
   },
   "outputs": [],
   "source": [
    "# convert to only 2 classes\n",
    "\n",
    "with rasterio.open('enlarged_multiclass.tif') as src: \n",
    "    \n",
    "    # Read as numpy array\n",
    "    array = src.read()\n",
    "    profile = src.profile\n",
    "\n",
    "    # Reclassify\n",
    "    array[np.where(array == 0)] = 0\n",
    "    array[np.where(array < 0)] = 1\n",
    "    array[np.where(array > 0)] = 1\n",
    "    # and so on ...  \n",
    "\n",
    "crs = rasterio.crs.CRS({\"init\": \"epsg:25832\"})\n",
    "\n",
    "with rasterio.open('enlarged_2class.tif', 'w', **profile) as dst:\n",
    "    dst.crs = crs\n",
    "    # Write to disk\n",
    "    dst.write(array)"
   ]
  },
  {
   "cell_type": "markdown",
   "metadata": {},
   "source": [
    "### 3.4.2) Get dimensions and cell size of both images\n",
    "(historical and current)"
   ]
  },
  {
   "cell_type": "code",
   "execution_count": 50,
   "metadata": {
    "ExecuteTime": {
     "end_time": "2022-07-22T12:51:46.974154Z",
     "start_time": "2022-07-22T12:51:46.630155Z"
    }
   },
   "outputs": [
    {
     "name": "stdout",
     "output_type": "stream",
     "text": [
      "Current: 209 x 117 \n",
      "Historical: 209 x 117\n"
     ]
    }
   ],
   "source": [
    "current = StKatharinen_current_resampled\n",
    "historical_enlarged = gdal.Open(\"enlarged_2class.tif\")\n",
    "\n",
    "# dimensions (w x h)\n",
    "print(\"Current:\", current.RasterXSize, \"x\", current.RasterYSize,\n",
    "      \"\\nHistorical:\", historical_enlarged.RasterXSize, \"x\", historical_enlarged.RasterYSize\n",
    "     )"
   ]
  },
  {
   "cell_type": "code",
   "execution_count": 51,
   "metadata": {
    "ExecuteTime": {
     "end_time": "2022-07-22T12:51:48.068189Z",
     "start_time": "2022-07-22T12:51:47.858187Z"
    }
   },
   "outputs": [
    {
     "name": "stdout",
     "output_type": "stream",
     "text": [
      "Current: 0.36056459330147106 0.3598888888875516 \n",
      "Historical: 1.0 -1.0\n"
     ]
    }
   ],
   "source": [
    "# cell size\n",
    "gt_current = current.GetGeoTransform()\n",
    "gt_historical_enlarged = historical_enlarged.GetGeoTransform()\n",
    "\n",
    "print(\"Current:\", gt_current[1], -gt_current[5], # x, y\n",
    "      \"\\nHistorical:\", gt_historical_enlarged[1], -gt_historical_enlarged[5]\n",
    "     )"
   ]
  },
  {
   "cell_type": "markdown",
   "metadata": {
    "ExecuteTime": {
     "end_time": "2022-03-25T10:36:49.453987Z",
     "start_time": "2022-03-25T10:36:49.429763Z"
    }
   },
   "source": [
    "### 3.4.3) Plot both raster files next to each other"
   ]
  },
  {
   "cell_type": "code",
   "execution_count": 52,
   "metadata": {
    "ExecuteTime": {
     "end_time": "2022-07-22T12:53:39.421821Z",
     "start_time": "2022-07-22T12:53:37.169445Z"
    }
   },
   "outputs": [
    {
     "data": {
      "image/png": "[encoded data removed]",
      "text/plain": [
       "<Figure size 1512x504 with 2 Axes>"
      ]
     },
     "metadata": {
      "needs_background": "light"
     },
     "output_type": "display_data"
    }
   ],
   "source": [
    "src1 = rasterio.open(\"data\\St_Katharinen_current_resampled.tif\")\n",
    "src2 = rasterio.open(\"enlarged_2class.tif\")\n",
    "\n",
    "from matplotlib import pyplot\n",
    "from rasterio.plot import show\n",
    "\n",
    "fig, (axr, axg) = pyplot.subplots(1,2, figsize=(21,7))\n",
    "show((src1, 1), ax=axr, title='Current')\n",
    "show((src2, 1), ax=axg, title='Historical enlarged')\n",
    "\n",
    "pyplot.show()"
   ]
  },
  {
   "cell_type": "markdown",
   "metadata": {},
   "source": [
    "## 3.5) Intersection over Union"
   ]
  },
  {
   "cell_type": "code",
   "execution_count": 53,
   "metadata": {
    "ExecuteTime": {
     "end_time": "2022-07-22T12:54:17.013225Z",
     "start_time": "2022-07-22T12:54:15.731648Z"
    }
   },
   "outputs": [],
   "source": [
    "# read data as numpy array\n",
    "Current = plt.imread(\"data\\St_Katharinen_current_resampled.tif\")\n",
    "Historical = plt.imread(\"data\\enlarged_2class.tif\")"
   ]
  },
  {
   "cell_type": "markdown",
   "metadata": {},
   "source": [
    "IoU of two binary masks\n",
    "(source: https://stackoverflow.com/questions/66595055/fastest-way-of-computing-binary-mask-iou-with-numpy)"
   ]
  },
  {
   "cell_type": "code",
   "execution_count": 55,
   "metadata": {
    "ExecuteTime": {
     "end_time": "2022-07-22T12:55:24.447750Z",
     "start_time": "2022-07-22T12:55:24.419765Z"
    }
   },
   "outputs": [
    {
     "name": "stdout",
     "output_type": "stream",
     "text": [
      "83.9 % overlap between current St. Katharinen and enlarged historical St. Katharinen\n"
     ]
    }
   ],
   "source": [
    "def binaryMaskIOU(mask1, mask2):\n",
    "    mask1_area = np.count_nonzero(mask1 == 1)\n",
    "    mask2_area = np.count_nonzero(mask2 == 1)\n",
    "    intersection = np.count_nonzero(np.logical_and(mask1==1,  mask2==1))\n",
    "    iou = intersection/(mask1_area+mask2_area-intersection)\n",
    "    return iou\n",
    "iou = binaryMaskIOU(Current, Historical)\n",
    "\n",
    "print(round(iou*100, 1), \"% overlap between current St. Katharinen and enlarged historical St. Katharinen\")"
   ]
  },
  {
   "cell_type": "markdown",
   "metadata": {
    "ExecuteTime": {
     "end_time": "2022-03-28T08:40:17.700473Z",
     "start_time": "2022-03-28T08:40:17.679491Z"
    }
   },
   "source": [
    "# 4) Manual test\n",
    "## 4.1) Visually"
   ]
  },
  {
   "cell_type": "code",
   "execution_count": 58,
   "metadata": {
    "ExecuteTime": {
     "end_time": "2022-07-22T12:57:47.954416Z",
     "start_time": "2022-07-22T12:57:47.163420Z"
    }
   },
   "outputs": [
    {
     "data": {
      "image/png": "[encoded data removed]",
      "text/plain": [
       "<IPython.core.display.Image object>"
      ]
     },
     "execution_count": 58,
     "metadata": {
      "image/png": {
       "width": 350
      }
     },
     "output_type": "execute_result"
    }
   ],
   "source": [
    "Image(filename=\"figures/Manual_check_overlay_StKatharinen.png\", width=350)"
   ]
  },
  {
   "cell_type": "markdown",
   "metadata": {
    "ExecuteTime": {
     "end_time": "2022-03-28T08:51:21.275113Z",
     "start_time": "2022-03-28T08:51:21.261107Z"
    }
   },
   "source": [
    "## 4.2) Accuracy\n",
    "Ratio of white pixels between the 2 churches"
   ]
  },
  {
   "cell_type": "code",
   "execution_count": 59,
   "metadata": {
    "ExecuteTime": {
     "end_time": "2022-07-22T12:58:13.604001Z",
     "start_time": "2022-07-22T12:58:13.595000Z"
    }
   },
   "outputs": [
    {
     "name": "stdout",
     "output_type": "stream",
     "text": [
      "86.5 %\n"
     ]
    }
   ],
   "source": [
    "print(round(np.count_nonzero(Current == 1) / np.count_nonzero(Historical == 1) * 100, 2), \"%\")"
   ]
  },
  {
   "cell_type": "markdown",
   "metadata": {},
   "source": [
    "# 5) Hausdorff Distance\n",
    "This is a common similarity measure within pattern matching."
   ]
  },
  {
   "cell_type": "code",
   "execution_count": 60,
   "metadata": {
    "ExecuteTime": {
     "end_time": "2022-07-22T13:00:43.939572Z",
     "start_time": "2022-07-22T13:00:43.903573Z"
    }
   },
   "outputs": [],
   "source": [
    "# convert numpy arrays to shapely\n",
    "\n",
    "shapes_current = rasterio.features.shapes(Current)\n",
    "current_poly = [shapely.geometry.Polygon(shape[0][\"coordinates\"][0]) for shape in shapes_current if shape[1] == 1]\n",
    "\n",
    "shapes_historical = rasterio.features.shapes(Historical)\n",
    "historical_poly = [shapely.geometry.Polygon(shape[0][\"coordinates\"][0]) for shape in shapes_historical if shape[1] == 1]"
   ]
  },
  {
   "cell_type": "code",
   "execution_count": 61,
   "metadata": {
    "ExecuteTime": {
     "end_time": "2022-07-22T13:01:14.995823Z",
     "start_time": "2022-07-22T13:01:14.905818Z"
    }
   },
   "outputs": [],
   "source": [
    "# convert to GeoDataFrames\n",
    "crs = {'init': 'epsg:4326'}\n",
    "Current_gdf = gpd.GeoDataFrame(crs=crs, geometry=current_poly)\n",
    "Historical_gdf = gpd.GeoDataFrame(crs=crs, geometry=historical_poly)"
   ]
  },
  {
   "cell_type": "code",
   "execution_count": 62,
   "metadata": {
    "ExecuteTime": {
     "end_time": "2022-07-22T13:01:30.337229Z",
     "start_time": "2022-07-22T13:01:30.320232Z"
    }
   },
   "outputs": [
    {
     "data": {
      "text/plain": [
       "126.0"
      ]
     },
     "execution_count": 62,
     "metadata": {},
     "output_type": "execute_result"
    }
   ],
   "source": [
    "# Hausdorff Distance\n",
    "(Current_gdf.geometry.values[0]).hausdorff_distance(Historical_gdf.geometry.values[0])"
   ]
  },
  {
   "cell_type": "markdown",
   "metadata": {},
   "source": [
    "# 6) IoU with other geometries\n",
    "in order to show the lower IoC (in comparison to the 2 corresponding counterparts)\n",
    "## 6.1) Example: St. Katharinen Lindley with Mahnmal St. Nikolai ALKIS"
   ]
  },
  {
   "cell_type": "markdown",
   "metadata": {},
   "source": [
    "### 6.1.1) Prepare data\n",
    "Import St. Nikolai"
   ]
  },
  {
   "cell_type": "code",
   "execution_count": 65,
   "metadata": {
    "ExecuteTime": {
     "end_time": "2022-07-22T13:02:45.491535Z",
     "start_time": "2022-07-22T13:02:45.477720Z"
    }
   },
   "outputs": [],
   "source": [
    "# Current St.-Nikolai-Kirche\n",
    "StNikolai_current = current_churches[current_churches[\"name\"] == \"Mahnmal St. Nikolai\"]"
   ]
  },
  {
   "cell_type": "markdown",
   "metadata": {},
   "source": [
    "Create envelope"
   ]
  },
  {
   "cell_type": "code",
   "execution_count": 66,
   "metadata": {
    "ExecuteTime": {
     "end_time": "2022-07-22T13:03:20.731162Z",
     "start_time": "2022-07-22T13:03:20.724166Z"
    }
   },
   "outputs": [],
   "source": [
    "env_StNikolai_current = StNikolai_current.envelope"
   ]
  },
  {
   "cell_type": "code",
   "execution_count": 67,
   "metadata": {
    "ExecuteTime": {
     "end_time": "2022-07-22T13:03:53.178083Z",
     "start_time": "2022-07-22T13:03:53.156076Z"
    }
   },
   "outputs": [],
   "source": [
    "# create GeoDataFrame\n",
    "env_gdf_StNikolai_current = gpd.GeoDataFrame(geometry=gpd.GeoSeries(env_StNikolai_current))\n",
    "\n",
    "# add id\n",
    "env_gdf_StNikolai_current['id'] = range(1, len(env_gdf_StNikolai_current) + 1)"
   ]
  },
  {
   "cell_type": "markdown",
   "metadata": {},
   "source": [
    "### 6.1.2) Rasterize polygons\n",
    "**We did this manually in QGIS** (see above)"
   ]
  },
  {
   "cell_type": "code",
   "execution_count": 68,
   "metadata": {
    "ExecuteTime": {
     "end_time": "2022-07-22T13:06:07.044552Z",
     "start_time": "2022-07-22T13:05:40.235442Z"
    }
   },
   "outputs": [],
   "source": [
    "StNikolai_current.to_file(\"data\\StNikolai_current.shp\",\n",
    "                       crs = {'init' :'epsg:25832'})\n",
    "\n",
    "env_gdf_StNikolai_current.to_file(\"data\\StNikolai_current_envelope.shp\",\n",
    "                               crs = {'init' :'epsg:25832'})"
   ]
  },
  {
   "cell_type": "markdown",
   "metadata": {},
   "source": [
    "### 6.1.3) Compare aspect ratio of the raster images"
   ]
  },
  {
   "cell_type": "code",
   "execution_count": 69,
   "metadata": {
    "ExecuteTime": {
     "end_time": "2022-07-22T13:08:44.652950Z",
     "start_time": "2022-07-22T13:08:43.187026Z"
    }
   },
   "outputs": [
    {
     "name": "stdout",
     "output_type": "stream",
     "text": [
      "Current: 1000 x 1434 \n",
      "Lindley: 2809 x 1348 \n",
      "\n",
      "Aspect ratio: Width: 2.809 , Height: 0.94\n"
     ]
    }
   ],
   "source": [
    "StNikolai_current_resampled = gdal.Open(\"data\\St_Nikolai_current_resampled.tif\")\n",
    "StKatharinen_historical_resampled = gdal.Open(\"data\\St_Katharinen_historical_resampled_for_St_Nikolai_current.tif\")\n",
    "\n",
    "# calculate width & height of raster images\n",
    "current_width = StNikolai_current_resampled.RasterXSize\n",
    "current_height = StNikolai_current_resampled.RasterYSize\n",
    "historical_width = StKatharinen_historical_resampled.RasterXSize\n",
    "historical_height = StKatharinen_historical_resampled.RasterYSize\n",
    "\n",
    "# calculate aspect ratio\n",
    "ar_width = historical_width/current_width\n",
    "ar_height = historical_height/current_height\n",
    "\n",
    "if ar_width < 1 and ar_height < 1:\n",
    "    ar_width = ar_width\n",
    "    ar_height = ar_height\n",
    "elif ar_width > 1 and ar_height > 1:\n",
    "    ar_width = current_width/historical_width\n",
    "    ar_height = current_height/historical_height\n",
    "    \n",
    "print(\"Current:\", current_width, \"x\", current_height,\n",
    "          \"\\nLindley:\", historical_width, \"x\", historical_height,\n",
    "          \"\\n\\nAspect ratio: Width:\", round(ar_width, 3),\n",
    "          \", Height:\", round(ar_height, 3)\n",
    "         )"
   ]
  },
  {
   "cell_type": "markdown",
   "metadata": {},
   "source": [
    "### enlarge smaller raster image"
   ]
  },
  {
   "cell_type": "code",
   "execution_count": 70,
   "metadata": {
    "ExecuteTime": {
     "end_time": "2022-07-22T13:10:03.982407Z",
     "start_time": "2022-07-22T13:09:48.081742Z"
    }
   },
   "outputs": [
    {
     "data": {
      "text/plain": [
       "<osgeo.gdal.Dataset; proxy of <Swig Object of type 'GDALDatasetShadow *' at 0x000001BB6239FAB0> >"
      ]
     },
     "execution_count": 70,
     "metadata": {},
     "output_type": "execute_result"
    }
   ],
   "source": [
    "# enlarge the smaller image\n",
    "\n",
    "# # case b): enlarge current to the size of historical\n",
    "ds = gdal.Open('data\\St_Nikolai_current_resampled.tif')\n",
    "gdal.Translate('data\\St_Nikolai_enlarged_multiclass.tif', ds, width=historical_width, height=historical_height, scaleParams=[[]])"
   ]
  },
  {
   "cell_type": "code",
   "execution_count": 71,
   "metadata": {
    "ExecuteTime": {
     "end_time": "2022-07-22T13:10:35.292492Z",
     "start_time": "2022-07-22T13:10:11.602661Z"
    }
   },
   "outputs": [],
   "source": [
    "# convert to only 2 classes\n",
    "\n",
    "with rasterio.open('data\\St_Nikolai_enlarged_multiclass.tif') as src:    \n",
    "    # Read as numpy array\n",
    "    array = src.read()\n",
    "    profile = src.profile\n",
    "\n",
    "    # Reclassify\n",
    "    array[np.where(array == 0)] = 0\n",
    "    array[np.where(array < 0)] = 1\n",
    "    array[np.where(array > 0)] = 1 \n",
    "\n",
    "crs = rasterio.crs.CRS({\"init\": \"epsg:25832\"})\n",
    "\n",
    "with rasterio.open('data\\St_Nikolai_enlarged_2class.tif', 'w', **profile) as dst:\n",
    "    dst.crs = crs\n",
    "    # Write to disk\n",
    "    dst.write(array)"
   ]
  },
  {
   "cell_type": "markdown",
   "metadata": {},
   "source": [
    "### 6.1.4) Get dimensions and cell size of both images"
   ]
  },
  {
   "cell_type": "code",
   "execution_count": 72,
   "metadata": {
    "ExecuteTime": {
     "end_time": "2022-07-22T13:11:14.370297Z",
     "start_time": "2022-07-22T13:11:13.742701Z"
    }
   },
   "outputs": [
    {
     "name": "stdout",
     "output_type": "stream",
     "text": [
      "Current: 2809 x 1348 \n",
      "Historical: 2809 x 1348\n"
     ]
    }
   ],
   "source": [
    "Historical = StKatharinen_historical_resampled\n",
    "Current_enlarged = gdal.Open(\"data\\St_Nikolai_enlarged_2class.tif\")\n",
    "\n",
    "# dimensions (w x h)\n",
    "print(\"Current:\", Current_enlarged.RasterXSize, \"x\", Current_enlarged.RasterYSize,\n",
    "      \"\\nHistorical:\", Historical.RasterXSize, \"x\", Historical.RasterYSize\n",
    "     )"
   ]
  },
  {
   "cell_type": "code",
   "execution_count": 73,
   "metadata": {
    "ExecuteTime": {
     "end_time": "2022-07-22T13:11:59.831687Z",
     "start_time": "2022-07-22T13:11:59.211014Z"
    }
   },
   "outputs": [
    {
     "name": "stdout",
     "output_type": "stream",
     "text": [
      "Historical: 0.026699893200427198 0.026706231454005934 \n",
      "Current: 0.009505873976521334 0.02841246290787369\n"
     ]
    }
   ],
   "source": [
    "# cell size\n",
    "gt_Historical = Historical.GetGeoTransform()\n",
    "gt_Current_enlarged = Current_enlarged.GetGeoTransform()\n",
    "\n",
    "print(\"Historical:\", gt_Historical[1], -gt_Historical[5], # x, y\n",
    "      \"\\nCurrent:\", gt_Current_enlarged[1], -gt_Current_enlarged[5]\n",
    "     )"
   ]
  },
  {
   "cell_type": "code",
   "execution_count": 74,
   "metadata": {
    "ExecuteTime": {
     "end_time": "2022-07-22T13:12:29.269399Z",
     "start_time": "2022-07-22T13:12:20.345357Z"
    }
   },
   "outputs": [
    {
     "data": {
      "image/png": "[encoded data removed]",
      "text/plain": [
       "<Figure size 432x288 with 1 Axes>"
      ]
     },
     "metadata": {
      "needs_background": "light"
     },
     "output_type": "display_data"
    }
   ],
   "source": [
    "# Plot\n",
    "ds = rasterio.open('data\\St_Nikolai_enlarged_2class.tif')\n",
    "plt.imshow(ds.read(1))\n",
    "plt.show()"
   ]
  },
  {
   "cell_type": "markdown",
   "metadata": {},
   "source": [
    "### 6.1.5) IoU"
   ]
  },
  {
   "cell_type": "code",
   "execution_count": 75,
   "metadata": {
    "ExecuteTime": {
     "end_time": "2022-07-22T13:13:15.465413Z",
     "start_time": "2022-07-22T13:13:14.188204Z"
    }
   },
   "outputs": [
    {
     "name": "stdout",
     "output_type": "stream",
     "text": [
      "54.0 % overlap between enlarged current St. Nikolai and historical St. Katharinen\n"
     ]
    }
   ],
   "source": [
    "# read data as numpy array\n",
    "ds1 = gdal.Open(\"data\\St_Nikolai_enlarged_2class.tif\")\n",
    "Current = np.array(ds1.GetRasterBand(1).ReadAsArray())\n",
    "\n",
    "ds2 = gdal.Open(\"data\\St_Katharinen_historical_resampled_for_St_Nikolai_current.tif\")\n",
    "Historical = np.array(ds2.GetRasterBand(1).ReadAsArray())\n",
    "\n",
    "# IoU\n",
    "iou = binaryMaskIOU(Current, Historical)\n",
    "print(round(iou*100, 1), \"% overlap between enlarged current St. Nikolai and historical St. Katharinen\")"
   ]
  },
  {
   "cell_type": "markdown",
   "metadata": {},
   "source": [
    "### 6.1.6) Manual Test\n",
    "Visually"
   ]
  },
  {
   "cell_type": "code",
   "execution_count": 76,
   "metadata": {
    "ExecuteTime": {
     "end_time": "2022-07-22T13:15:09.830140Z",
     "start_time": "2022-07-22T13:15:08.956057Z"
    }
   },
   "outputs": [
    {
     "data": {
      "image/png": "[encoded data removed]",
      "text/plain": [
       "<IPython.core.display.Image object>"
      ]
     },
     "execution_count": 76,
     "metadata": {
      "image/png": {
       "width": 350
      }
     },
     "output_type": "execute_result"
    }
   ],
   "source": [
    "Image(filename=\"figures/Manual_check_overlay_StKatharinen-historical_StNikolai-current.PNG\", width=350)"
   ]
  },
  {
   "cell_type": "markdown",
   "metadata": {},
   "source": [
    "### 6.1.7) Hausdorff Distance"
   ]
  },
  {
   "cell_type": "code",
   "execution_count": 77,
   "metadata": {
    "ExecuteTime": {
     "end_time": "2022-07-22T13:16:09.077735Z",
     "start_time": "2022-07-22T13:16:08.785735Z"
    }
   },
   "outputs": [],
   "source": [
    "# convert numpy arrays to shapely\n",
    "\n",
    "shapes_current = rasterio.features.shapes(Current)\n",
    "current_poly = [shapely.geometry.Polygon(shape[0][\"coordinates\"][0]) for shape in shapes_current if shape[1] == 1]\n",
    "\n",
    "shapes_historical = rasterio.features.shapes(Historical)\n",
    "historical_poly = [shapely.geometry.Polygon(shape[0][\"coordinates\"][0]) for shape in shapes_historical if shape[1] == 1]"
   ]
  },
  {
   "cell_type": "code",
   "execution_count": 78,
   "metadata": {
    "ExecuteTime": {
     "end_time": "2022-07-22T13:16:31.993628Z",
     "start_time": "2022-07-22T13:16:31.873627Z"
    }
   },
   "outputs": [],
   "source": [
    "# convert to GDFs \n",
    "crs = {'init': 'epsg:4326'}\n",
    "current_gdf = gpd.GeoDataFrame(crs=crs, geometry=current_poly)\n",
    "historical_gdf = gpd.GeoDataFrame(crs=crs, geometry=historical_poly)"
   ]
  },
  {
   "cell_type": "code",
   "execution_count": 83,
   "metadata": {
    "ExecuteTime": {
     "end_time": "2022-07-22T13:17:14.363834Z",
     "start_time": "2022-07-22T13:17:14.330836Z"
    }
   },
   "outputs": [
    {
     "data": {
      "text/plain": [
       "576.805859887016"
      ]
     },
     "execution_count": 83,
     "metadata": {},
     "output_type": "execute_result"
    }
   ],
   "source": [
    "# Hausdorff Distance\n",
    "(current_gdf.geometry.values[0]).hausdorff_distance(historical_gdf.geometry.values[0])"
   ]
  },
  {
   "cell_type": "markdown",
   "metadata": {},
   "source": [
    "**All steps within 6.1) were also performed for current St. Petri, St. Jacobi, and Rathaus**."
   ]
  }
 ],
 "metadata": {
  "kernelspec": {
   "display_name": "Python 3",
   "language": "python",
   "name": "python3"
  },
  "language_info": {
   "codemirror_mode": {
    "name": "ipython",
    "version": 3
   },
   "file_extension": ".py",
   "mimetype": "text/x-python",
   "name": "python",
   "nbconvert_exporter": "python",
   "pygments_lexer": "ipython3",
   "version": "3.7.7"
  },
  "toc": {
   "base_numbering": 1,
   "nav_menu": {},
   "number_sections": false,
   "sideBar": true,
   "skip_h1_title": false,
   "title_cell": "Table of Contents",
   "title_sidebar": "Contents",
   "toc_cell": false,
   "toc_position": {
    "height": "calc(100% - 180px)",
    "left": "10px",
    "top": "150px",
    "width": "333.5px"
   },
   "toc_section_display": true,
   "toc_window_display": true
  }
 },
 "nbformat": 4,
 "nbformat_minor": 4
}
