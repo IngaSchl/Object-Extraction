{
 "cells": [
  {
   "cell_type": "markdown",
   "metadata": {},
   "source": [
    "# Separate building edges from text within bounding boxes\n",
    "This script separates text from building edges which are still within the bounding boxes exported by Strabo. The aim is to eliminate text but no building edge from the input map (see paper section 4.1) for an improved subsequent object extraction. By eliminating text - which, in general, has similar gray values and sometimes even overlaps with other map features (e.g. buildings) - from the input image, the segmentation of buildings and other objects is facilitated.<br>\n",
    "\n",
    "The bounding box of each label is \"reduced\" by the building edges so that the bounding box only contains text in the end."
   ]
  },
  {
   "cell_type": "code",
   "execution_count": 1,
   "metadata": {
    "ExecuteTime": {
     "end_time": "2022-07-25T09:55:49.702820Z",
     "start_time": "2022-07-25T09:55:25.373474Z"
    }
   },
   "outputs": [],
   "source": [
    "import cv2\n",
    "import geopandas as gpd\n",
    "import math\n",
    "import numpy as np\n",
    "import os\n",
    "import rasterio\n",
    "import re\n",
    "import shapely\n",
    "\n",
    "from matplotlib.colors import ListedColormap\n",
    "from matplotlib.patches import Patch\n",
    "import matplotlib.pyplot as plt\n",
    "from matplotlib.pyplot import imshow\n",
    "from osgeo import gdal, ogr\n",
    "from PIL import Image\n",
    "from rasterio.plot import show\n",
    "from skimage import io\n",
    "from skimage.color import rgb2hsv\n",
    "from scipy.misc import imsave"
   ]
  },
  {
   "cell_type": "code",
   "execution_count": 2,
   "metadata": {
    "ExecuteTime": {
     "end_time": "2022-07-25T09:55:49.733822Z",
     "start_time": "2022-07-25T09:55:49.709821Z"
    }
   },
   "outputs": [],
   "source": [
    "%matplotlib inline\n",
    "shapely.speedups.disable()"
   ]
  },
  {
   "cell_type": "markdown",
   "metadata": {},
   "source": [
    "# 1) Prepare data\n",
    "## 1.1) Define input"
   ]
  },
  {
   "cell_type": "code",
   "execution_count": 3,
   "metadata": {
    "ExecuteTime": {
     "end_time": "2022-07-25T09:55:49.763821Z",
     "start_time": "2022-07-25T09:55:49.741822Z"
    }
   },
   "outputs": [],
   "source": [
    "path = \"data\\\\\"\n",
    "inputname = \"ID_1.tif\""
   ]
  },
  {
   "cell_type": "markdown",
   "metadata": {},
   "source": [
    "## 1.2) Create output"
   ]
  },
  {
   "cell_type": "code",
   "execution_count": 4,
   "metadata": {
    "ExecuteTime": {
     "end_time": "2022-07-25T09:55:49.810823Z",
     "start_time": "2022-07-25T09:55:49.768820Z"
    }
   },
   "outputs": [],
   "source": [
    "outfolder_1 = inputname.replace('_Clip', '')\n",
    "outfolder_1 = outfolder_1.replace('.tif', '')\n",
    "outfolder = \"data/output/\" + outfolder_1\n",
    "\n",
    "if not os.path.exists(outfolder): # if it does not exist yet...\n",
    "    os.makedirs(outfolder) # ...create new folder in directory to save the centroids in it"
   ]
  },
  {
   "cell_type": "markdown",
   "metadata": {},
   "source": [
    "## 1.3) Import image"
   ]
  },
  {
   "cell_type": "code",
   "execution_count": 5,
   "metadata": {
    "ExecuteTime": {
     "end_time": "2022-07-25T09:57:15.255619Z",
     "start_time": "2022-07-25T09:57:14.888618Z"
    }
   },
   "outputs": [
    {
     "name": "stderr",
     "output_type": "stream",
     "text": [
      "C:\\Users\\schlegel\\Anaconda3\\lib\\site-packages\\rasterio\\__init__.py:219: NotGeoreferencedWarning: Dataset has no geotransform set. The identity matrix may be returned.\n",
      "  s = DatasetReader(path, driver=driver, sharing=sharing, **kwargs)\n"
     ]
    },
    {
     "data": {
      "image/png": "[encoded data removed]",
      "text/plain": [
       "<Figure size 432x288 with 1 Axes>"
      ]
     },
     "metadata": {
      "needs_background": "light"
     },
     "output_type": "display_data"
    },
    {
     "data": {
      "text/plain": [
       "<matplotlib.axes._subplots.AxesSubplot at 0x1c2639a53c8>"
      ]
     },
     "execution_count": 5,
     "metadata": {},
     "output_type": "execute_result"
    }
   ],
   "source": [
    "# plot raster\n",
    "inputtif = rasterio.open(path + inputname)\n",
    "show(inputtif.read(), transform=inputtif.transform)"
   ]
  },
  {
   "cell_type": "markdown",
   "metadata": {},
   "source": [
    "## 1.4) Read metadata"
   ]
  },
  {
   "cell_type": "code",
   "execution_count": 6,
   "metadata": {
    "ExecuteTime": {
     "end_time": "2022-07-25T09:57:17.155557Z",
     "start_time": "2022-07-25T09:57:16.515711Z"
    }
   },
   "outputs": [
    {
     "name": "stdout",
     "output_type": "stream",
     "text": [
      "Centroid: 913.4413503092584 -197.0454564918782 \n",
      "Pixel resolution: 1.0 -1.0 \n",
      "Rotation: 75.98736233333334\n"
     ]
    }
   ],
   "source": [
    "inputtif_gdal = gdal.Open(path + inputname)\n",
    "ulx, xres, xskew, uly, yskew, yres  = inputtif_gdal.GetGeoTransform()\n",
    "\n",
    "# if upper left corner = 0.0 0.0: read it from the corresponding BB\n",
    "\n",
    "if ulx == 0 and uly == 0:   \n",
    "    \n",
    "    boundingboxes = gpd.read_file(\"data/input/improved_boundingboxes_strabo_wgs84.shp\")\n",
    "    boundingboxes = boundingboxes.sort_values(by=['id'])\n",
    "    \n",
    "    idnumber = inputname.replace('ID_','')\n",
    "    idnumber = idnumber.replace('.tif','')\n",
    "    idx = int(idnumber)\n",
    "    \n",
    "    centroidx = float(boundingboxes['centroid_x'].loc[boundingboxes.id == idx].astype(float, errors = 'raise'))\n",
    "    centroidy = float(boundingboxes['centroid_y'].loc[boundingboxes.id == idx].astype(float, errors = 'raise'))\n",
    "    \n",
    "    if math.isnan(centroidx):\n",
    "        centroidx = float(boundingboxes['geometry'].loc[boundingboxes.id == idx].centroid.x)\n",
    "    \n",
    "    if math.isnan(centroidy):\n",
    "        centroidy = float(boundingboxes['geometry'].loc[boundingboxes.id == idx].centroid.y)\n",
    "\n",
    "    if yres > 0:\n",
    "        yres = yres * (-1)\n",
    "\n",
    "    print(\"Centroid:\", centroidx, centroidy,\n",
    "          \"\\nPixel resolution:\", xres, yres,\n",
    "          \"\\nRotation:\", float(boundingboxes['inclinatio'].loc[boundingboxes.id == idx].astype(float, errors = 'raise'))\n",
    "         )\n",
    "\n",
    "else:\n",
    "    \n",
    "    # crs with corner coordinates for later use\n",
    "    lrx = ulx + (inputtif_gdal.RasterXSize * xres)\n",
    "    lry = uly + (inputtif_gdal.RasterYSize * yres)\n",
    "    \n",
    "    print(\"Upper left corner:\", ulx, uly, \n",
    "          \"\\nPixel Resolution:\", xres, yres, \n",
    "          \"\\nRotation:\", xskew, yskew, \n",
    "          \"\\nDimensions:\", lrx, lry)"
   ]
  },
  {
   "cell_type": "code",
   "execution_count": 7,
   "metadata": {
    "ExecuteTime": {
     "end_time": "2022-07-25T09:57:19.213208Z",
     "start_time": "2022-07-25T09:57:19.195202Z"
    }
   },
   "outputs": [],
   "source": [
    "# # check number of bands\n",
    "# inputtif.count"
   ]
  },
  {
   "cell_type": "markdown",
   "metadata": {},
   "source": [
    "## 1.4) Convert to grayscales\n",
    "This is done by OpenCV as follows:<br>\n",
    "R * 0.299 + G * 0.587 + B * 0.114"
   ]
  },
  {
   "cell_type": "code",
   "execution_count": 8,
   "metadata": {
    "ExecuteTime": {
     "end_time": "2022-07-25T09:57:20.564945Z",
     "start_time": "2022-07-25T09:57:20.107743Z"
    }
   },
   "outputs": [
    {
     "data": {
      "image/png": "[encoded data removed]",
      "text/plain": [
       "<Figure size 1440x360 with 2 Axes>"
      ]
     },
     "metadata": {
      "needs_background": "light"
     },
     "output_type": "display_data"
    }
   ],
   "source": [
    "# method 1: load image directely in grayscale mode\n",
    "gray_cv2_1 = cv2.imread(path+inputname, 0)\n",
    "\n",
    "# method 2: load original image and convert it to grayscales afterwards\n",
    "img = cv2.imread(path+inputname)\n",
    "gray_cv2 = cv2.cvtColor(img, cv2.COLOR_BGR2GRAY)\n",
    "\n",
    "# visual comparison of both methods\n",
    "fig = plt.figure(figsize=(20,5))\n",
    "ax1 = fig.add_subplot(2,2,1)\n",
    "ax1.imshow(cv2.cvtColor(gray_cv2_1, cv2.COLOR_BGR2RGB))\n",
    "ax2 = fig.add_subplot(2,2,2)\n",
    "ax2.imshow(cv2.cvtColor(gray_cv2, cv2.COLOR_BGR2RGB))\n",
    "fig.tight_layout()"
   ]
  },
  {
   "cell_type": "markdown",
   "metadata": {},
   "source": [
    "We choose method 2 to avoid errors and uncertainties within the import in grayscale mode."
   ]
  },
  {
   "cell_type": "code",
   "execution_count": 9,
   "metadata": {
    "ExecuteTime": {
     "end_time": "2022-07-25T09:57:23.465560Z",
     "start_time": "2022-07-25T09:57:23.301724Z"
    }
   },
   "outputs": [
    {
     "name": "stderr",
     "output_type": "stream",
     "text": [
      "C:\\Users\\schlegel\\Anaconda3\\lib\\site-packages\\ipykernel_launcher.py:4: DeprecationWarning: `imsave` is deprecated!\n",
      "`imsave` is deprecated in SciPy 1.0.0, and will be removed in 1.2.0.\n",
      "Use ``imageio.imwrite`` instead.\n",
      "  after removing the cwd from sys.path.\n"
     ]
    }
   ],
   "source": [
    "# export grayscale image to PNG\n",
    "graypng = Image.fromarray(gray_cv2)\n",
    "grayscalename = outfolder_1 + '_grayscale_cv2.png'\n",
    "imsave(outfolder + '/' + grayscalename, graypng)"
   ]
  },
  {
   "cell_type": "markdown",
   "metadata": {},
   "source": [
    "## 1.5) Convert to HSL\n",
    "to visually check the Value channel which may be an alternative to grayscale"
   ]
  },
  {
   "cell_type": "code",
   "execution_count": 10,
   "metadata": {
    "ExecuteTime": {
     "end_time": "2022-07-25T09:57:24.460561Z",
     "start_time": "2022-07-25T09:57:24.203589Z"
    }
   },
   "outputs": [
    {
     "data": {
      "image/png": "[encoded data removed]",
      "text/plain": [
       "<Figure size 1080x576 with 3 Axes>"
      ]
     },
     "metadata": {
      "needs_background": "light"
     },
     "output_type": "display_data"
    }
   ],
   "source": [
    "rgb = io.imread(path+inputname)\n",
    "hsv_img = rgb2hsv(rgb)\n",
    "hue_img = hsv_img[:, :, 0]\n",
    "saturation_img = hsv_img[:, :, 1]\n",
    "value_img = hsv_img[:, :, 2]\n",
    "\n",
    "fig, (ax0, ax1, ax2) = plt.subplots(ncols=3, figsize=(15, 8))\n",
    "\n",
    "ax0.imshow(hue_img, cmap='hsv')\n",
    "ax0.set_title(\"Hue\")\n",
    "ax0.axis('off')\n",
    "ax1.imshow(saturation_img)\n",
    "ax1.set_title(\"Saturation\")\n",
    "ax1.axis('off')\n",
    "ax2.imshow(value_img)\n",
    "ax2.set_title(\"Value\")\n",
    "ax2.axis('off')\n",
    "\n",
    "fig.tight_layout()"
   ]
  },
  {
   "cell_type": "markdown",
   "metadata": {},
   "source": [
    "# 2) Reduce Bounding Boxes\n",
    "In this step, edges of buildings are removed from the bounding boxes containing text image areas.\n",
    "## 2.1) Create a mask consisting of 3 values\n",
    "**0 = Background<br>\n",
    "1 = Text<br>\n",
    "2 = Building Edge**"
   ]
  },
  {
   "cell_type": "markdown",
   "metadata": {},
   "source": [
    "### 2.1.1) Make a binary mask\n",
    "To generate a binary mask, we work on the basis of the grayscale text image image *gray_cv2* generated via OpenCV.<br>\n",
    "A threshold (here: 150) helps to separate dark *foreground* from bright *background* pixels."
   ]
  },
  {
   "cell_type": "code",
   "execution_count": 11,
   "metadata": {
    "ExecuteTime": {
     "end_time": "2022-07-25T09:57:28.137431Z",
     "start_time": "2022-07-25T09:57:28.130434Z"
    }
   },
   "outputs": [],
   "source": [
    "# define output name for binary mask\n",
    "binaryname = outfolder_1 + '_binarized.png'"
   ]
  },
  {
   "cell_type": "code",
   "execution_count": 12,
   "metadata": {
    "ExecuteTime": {
     "end_time": "2022-07-25T09:57:28.704393Z",
     "start_time": "2022-07-25T09:57:28.627389Z"
    }
   },
   "outputs": [
    {
     "name": "stderr",
     "output_type": "stream",
     "text": [
      "C:\\Users\\schlegel\\Anaconda3\\lib\\site-packages\\ipykernel_launcher.py:8: DeprecationWarning: `imsave` is deprecated!\n",
      "`imsave` is deprecated in SciPy 1.0.0, and will be removed in 1.2.0.\n",
      "Use ``imageio.imwrite`` instead.\n",
      "  \n"
     ]
    }
   ],
   "source": [
    "# Set threshold to make a binary image\n",
    "binaryarray = np.where(gray_cv2>150, 0, 1)\n",
    "\n",
    "# Covert numpy array back to image \n",
    "binarypng = Image.fromarray(binaryarray)\n",
    "\n",
    "# export file\n",
    "imsave(outfolder + '/' + binaryname, binarypng)"
   ]
  },
  {
   "cell_type": "code",
   "execution_count": 48,
   "metadata": {
    "ExecuteTime": {
     "end_time": "2022-07-25T11:20:47.482807Z",
     "start_time": "2022-07-25T11:20:47.234808Z"
    }
   },
   "outputs": [
    {
     "data": {
      "image/png": "[encoded data removed]",
      "text/plain": [
       "<Figure size 1080x360 with 1 Axes>"
      ]
     },
     "metadata": {
      "needs_background": "light"
     },
     "output_type": "display_data"
    }
   ],
   "source": [
    "# define output colors for imshow\n",
    "cmap = ListedColormap(['black','white'])\n",
    "\n",
    "# enlarge the display of the binary image\n",
    "fig = plt.figure(figsize = (15,5)) \n",
    "ax = fig.add_subplot(111)\n",
    "imshow(binaryarray, interpolation='none', cmap=cmap)\n",
    "\n",
    "# add legend\n",
    "legend_elements = [Patch(facecolor='black', edgecolor='black', label='Background'),\n",
    "                   Patch(facecolor='white', edgecolor='black', label='Foreground', linewidth=0.5)\n",
    "                  ]\n",
    "ax.legend(handles=legend_elements, loc=(1.01,0.01))\n",
    "\n",
    "plt.show()"
   ]
  },
  {
   "cell_type": "markdown",
   "metadata": {},
   "source": [
    "**Legend**<br>\n",
    "0 = white, Background<br>\n",
    "1 = black, Foreground (Text or building edges)"
   ]
  },
  {
   "cell_type": "markdown",
   "metadata": {},
   "source": [
    "### 2.1.2) Make a 3-class mask\n",
    "Separate between text and building edges with multiple conditions."
   ]
  },
  {
   "cell_type": "markdown",
   "metadata": {},
   "source": [
    "**Legend**<br>\n",
    "0 = white, Background<br>\n",
    "1 = black, Foreground (Text)<br>\n",
    "2 = black, Foreground (Building edges)"
   ]
  },
  {
   "cell_type": "code",
   "execution_count": 49,
   "metadata": {
    "ExecuteTime": {
     "end_time": "2022-07-25T11:22:18.887962Z",
     "start_time": "2022-07-25T11:22:18.874946Z"
    }
   },
   "outputs": [],
   "source": [
    "mask = binaryarray.copy()"
   ]
  },
  {
   "cell_type": "code",
   "execution_count": 50,
   "metadata": {
    "ExecuteTime": {
     "end_time": "2022-07-25T11:22:19.182899Z",
     "start_time": "2022-07-25T11:22:19.170925Z"
    }
   },
   "outputs": [],
   "source": [
    "def repeatingNumbers(numList):\n",
    "    \"\"\"\n",
    "    count consecutive(!) identical values\n",
    "    \"\"\"\n",
    "    i = 0\n",
    "\n",
    "    while i < len(numList) - 1:\n",
    "        n = numList[i]\n",
    "        startIndex = i\n",
    "        while i < len(numList) - 1 and numList[i] == numList[i + 1]:\n",
    "            i = i + 1\n",
    "\n",
    "        endIndex = i\n",
    "  \n",
    "        if endIndex-startIndex >= 4 and n == 1:\n",
    "            \n",
    "            numList[startIndex] = 2\n",
    "            numList[endIndex] = 2\n",
    "\n",
    "            for one in range(startIndex, endIndex):\n",
    "                numList[one] = 2\n",
    "              \n",
    "        i = i + 1"
   ]
  },
  {
   "cell_type": "markdown",
   "metadata": {},
   "source": [
    "#### Classify building edge pixels within 3-class mask\n",
    "The following cell applies only for rows at the upper or lower borders (+ ~5 rows) of the input image and in consideration of the following conditions.<br><br>\n",
    "1) rows consisting **solely** of *foreground* pixels,<br>\n",
    "2) rows with >30% *foreground* pixels **and** >*threshold* *foreground* pixels side-by-side<br>\n",
    "3) rows below a complete *building edge* row in the lower part or above a complete *building edge* row in the upper part (from 1) or 2))<br>\n",
    "4) first or last row with >*threshold* side-by-side *foreground* pixels<br>\n",
    "5) rows at the upper or lower border consisting solely of *background* and *building edge* pixels (from 1) to 4)) and neighboring to rows containing only *text*"
   ]
  },
  {
   "cell_type": "code",
   "execution_count": 51,
   "metadata": {
    "ExecuteTime": {
     "end_time": "2022-07-25T11:22:20.351221Z",
     "start_time": "2022-07-25T11:22:20.314214Z"
    }
   },
   "outputs": [
    {
     "name": "stdout",
     "output_type": "stream",
     "text": [
      "\n",
      "Case 2): row 0 has 99% foreground pixels:\n",
      "[2 2 2 2 2 2 2 2 2 2 2 2 2 2 2 2 2 2 2 2 2 2 2 2 2 2 2 2 2 2 2 2 2 2 2 2 2\n",
      " 2 2 2 2 2 2 2 2 2 2 2 2 2 2 2 2 2 2 2 2 2 2 2 2 2 2 2 2 2 2 2 2 2 2 2 2 2\n",
      " 2 2 2 2 2 2 2 2 2 2 2 2 2 2 2 2 2 2 2 2 2 2 2 2 2 2 2 2 2 2 2 2 2 2 2 2 2\n",
      " 2 2 2 2 2 2 2 0 1 1 1 1]\n",
      "\n",
      "Case 2): row 1 has 83% foreground pixels:\n",
      "[2 2 2 2 2 2 2 2 2 2 2 2 2 2 2 2 2 2 2 2 2 2 2 2 2 2 2 2 2 2 2 2 2 2 2 2 2\n",
      " 2 2 2 2 2 2 2 2 2 2 2 2 2 2 2 2 2 2 2 2 2 2 2 2 2 2 2 2 2 2 2 2 2 2 2 2 2\n",
      " 2 2 2 2 2 2 2 2 2 2 2 2 2 2 2 2 2 2 2 0 1 1 1 0 1 1 0 0 1 1 0 0 0 0 0 0 0\n",
      " 0 0 0 0 0 0 0 0 0 1 1 1]\n",
      "\n",
      "Case 2): row 2 has 63% foreground pixels:\n",
      "[2 2 2 2 2 2 2 2 2 2 2 2 2 2 2 2 2 2 2 2 2 2 2 2 2 2 2 2 2 2 2 2 2 2 2 2 2\n",
      " 2 2 2 2 2 2 2 2 2 2 2 2 2 2 2 2 2 2 2 2 2 2 2 2 2 2 2 2 2 2 2 2 2 2 2 0 1\n",
      " 1 0 0 0 1 0 0 0 0 0 0 0 0 0 0 0 0 0 0 0 0 0 0 0 0 0 0 0 0 0 0 0 0 0 0 0 0\n",
      " 0 0 0 0 0 0 0 0 0 1 1 1]\n",
      "\n",
      "Case 2): row 21 has 73% foreground pixels:\n",
      "[2 2 2 2 2 2 2 2 2 2 2 0 0 1 1 1 0 1 1 1 0 0 1 0 0 0 0 0 0 0 0 0 0 0 0 0 0\n",
      " 0 0 0 0 0 0 0 1 0 2 2 2 2 2 2 2 2 2 2 2 2 2 2 2 2 2 2 2 2 2 2 2 2 2 2 2 2\n",
      " 2 2 2 2 2 2 2 2 2 2 2 2 2 2 2 2 2 2 2 0 2 2 2 2 2 2 2 2 2 2 2 2 0 1 1 1 0\n",
      " 1 1 1 0 1 1 1 0 0 1 1 1]\n",
      "\n",
      "Case 1): row  22  has  100 % foreground pixels:\n",
      " [2 2 2 2 2 2 2 2 2 2 2 2 2 2 2 2 2 2 2 2 2 2 2 2 2 2 2 2 2 2 2 2 2 2 2 2 2\n",
      " 2 2 2 2 2 2 2 2 2 2 2 2 2 2 2 2 2 2 2 2 2 2 2 2 2 2 2 2 2 2 2 2 2 2 2 2 2\n",
      " 2 2 2 2 2 2 2 2 2 2 2 2 2 2 2 2 2 2 2 2 2 2 2 2 2 2 2 2 2 2 2 2 2 2 2 2 2\n",
      " 2 2 2 2 2 2 2 2 2 2 2 2]\n",
      "\n",
      "Case 3): row 22 is above row 23 which should now also consist completely out of '2':\n",
      "[2 2 2 2 2 2 2 2 2 2 2 2 2 2 2 2 2 2 2 2 2 2 2 2 2 2 2 2 2 2 2 2 2 2 2 2 2\n",
      " 2 2 2 2 2 2 2 2 2 2 2 2 2 2 2 2 2 2 2 2 2 2 2 2 2 2 2 2 2 2 2 2 2 2 2 2 2\n",
      " 2 2 2 2 2 2 2 2 2 2 2 2 2 2 2 2 2 2 2 2 2 2 2 2 2 2 2 2 2 2 2 2 2 2 2 2 2\n",
      " 2 2 2 2 2 2 2 2 2 2 2 2]\n"
     ]
    }
   ],
   "source": [
    "for rowindex, row in enumerate(mask):\n",
    "    \n",
    "    # Apply only if the rows are at the upper or lower borders (~5 rows) of the input image.\n",
    "    # Adjust this threshold if necessary.\n",
    "    \n",
    "    if rowindex < 5 or rowindex > (len(mask)-5):   \n",
    "        \n",
    "        foregroundpixel_relative = (np.count_nonzero(row == 1) / len(row)) * 100\n",
    "        backgroundpixel_relative = (np.count_nonzero(row == 0) / len(row)) * 100        \n",
    "\n",
    "        # 1) if a row consists solely of foreground pixels: this must be a building edge\n",
    "                        \n",
    "        if int(foregroundpixel_relative) == 100:\n",
    "            row[row >= 0] = 2\n",
    "            print(\"\\nCase 1): row \", rowindex, \" has \", int(foregroundpixel_relative), \"% foreground pixels:\\n\", row)\n",
    "\n",
    "        # 2) if more than 30% of all pixels within a row are black...\n",
    "        \n",
    "        if int(foregroundpixel_relative) > 30 and int(foregroundpixel_relative) < 100:\n",
    "            print(\"\\nCase 2): row \", rowindex, \" has \", int(foregroundpixel_relative), \"% foreground pixels:\", sep=\"\")\n",
    "\n",
    "            # ...check if there are areas with more than *threshold* foreground pixels side-by-side...\n",
    "            threshold = 40\n",
    "\n",
    "            for pixelindex, pixelvalue in zip(range(0, len(row)), row):\n",
    "\n",
    "                subset = row[pixelindex:pixelindex+threshold]\n",
    "\n",
    "                if(len(subset)==threshold and all(item == 1 for item in subset)):      \n",
    "\n",
    "                    # ...and convert those pixels to buildings edges (pixelvalue = 2)\n",
    "                    repeatingNumbers(row)\n",
    "            print(row)          \n",
    "\n",
    "        # 3) Convert the remaining rows below or above a row, which is completely '2', also to '2' (= background)\n",
    "        # - depending on if the row is in the upper or lower area of the image   \n",
    "\n",
    "        if np.all((row == 2)):\n",
    "            \n",
    "            # 3a) row is in the upper part of the image            \n",
    "            if rowindex < ((len(mask)-1)/2) and rowindex != 0:\n",
    "                # convert the remaining rows above the row which is completely '2' also to '2' (= background)\n",
    "                mask[rowindex-1] = 2\n",
    "                print(\"\\nCase 3): row \", rowindex, \" is below row \", rowindex-1, \" which should now also consist completely out of '2':\\n\", row, sep=\"\")\n",
    "                    \n",
    "            # 3b) row is in the lower part of the image\n",
    "            if rowindex >= ((len(mask)-1)/2) and rowindex != len(mask)-1:\n",
    "                mask[rowindex+1] = 2\n",
    "                print(\"\\nCase 3): row \", rowindex, \" is above row \", rowindex+1, \" which should now also consist completely out of '2':\\n\", row, sep=\"\")"
   ]
  },
  {
   "cell_type": "code",
   "execution_count": 54,
   "metadata": {
    "ExecuteTime": {
     "end_time": "2022-07-25T11:22:34.770794Z",
     "start_time": "2022-07-25T11:22:34.489802Z"
    }
   },
   "outputs": [
    {
     "data": {
      "image/png": "[encoded data removed]",
      "text/plain": [
       "<Figure size 1080x360 with 1 Axes>"
      ]
     },
     "metadata": {
      "needs_background": "light"
     },
     "output_type": "display_data"
    }
   ],
   "source": [
    "# define new output colors for imshow\n",
    "cmap = ListedColormap(['black', 'white','#C44D58'])\n",
    "\n",
    "# plot\n",
    "fig = plt.figure(figsize = (15,5)) \n",
    "ax = fig.add_subplot(111)\n",
    "imshow(mask, interpolation='none', cmap=cmap)\n",
    "\n",
    "# add legend\n",
    "legend_elements = [Patch(facecolor='black', edgecolor='black', label='Background'),\n",
    "                   Patch(facecolor='white', edgecolor='black', label='Text (former Foreground)', linewidth=0.5),\n",
    "                   Patch(facecolor='#C44D58', edgecolor='#C44D58', label='Building edge', linewidth=0.5)\n",
    "                  ]\n",
    "ax.legend(handles=legend_elements, loc=(1.01,0.01))\n",
    "\n",
    "plt.show()"
   ]
  },
  {
   "cell_type": "code",
   "execution_count": 55,
   "metadata": {
    "ExecuteTime": {
     "end_time": "2022-07-25T11:22:52.372907Z",
     "start_time": "2022-07-25T11:22:52.354911Z"
    }
   },
   "outputs": [],
   "source": [
    "# 4) if at least *threshold* foreground pixels neighbor each other \n",
    "# in the first or last row (resp. upper or lower border) of the image,\n",
    "# those must be buildings edges ('2')\n",
    "\n",
    "def convertfirstlastrow(row, numberofpixels):\n",
    "    \n",
    "    threshold = numberofpixels\n",
    "\n",
    "    for startIndex in range(0, len(row)):\n",
    "\n",
    "        endIndex = startIndex+threshold\n",
    "\n",
    "        if endIndex <= len(row):\n",
    "\n",
    "            subset = row[startIndex:endIndex]\n",
    "\n",
    "            if(len(subset)==threshold and all(item == 1 for item in subset)):\n",
    "\n",
    "                # convert all '1' values in subset to '2'\n",
    "                for one in range(startIndex, len(row)):\n",
    "                    if row[one] == 1:\n",
    "                        row[one] = 2"
   ]
  },
  {
   "cell_type": "code",
   "execution_count": 56,
   "metadata": {
    "ExecuteTime": {
     "end_time": "2022-07-25T11:22:52.657258Z",
     "start_time": "2022-07-25T11:22:52.652256Z"
    }
   },
   "outputs": [],
   "source": [
    "# 4a) at upper border of image\n",
    "convertfirstlastrow(mask[0], 15)\n",
    "\n",
    "# 4b) at lower border of image        \n",
    "convertfirstlastrow(mask[len(mask)-1], 15)"
   ]
  },
  {
   "cell_type": "code",
   "execution_count": 57,
   "metadata": {
    "ExecuteTime": {
     "end_time": "2022-07-25T11:22:53.291813Z",
     "start_time": "2022-07-25T11:22:53.027823Z"
    }
   },
   "outputs": [
    {
     "data": {
      "image/png": "[encoded data removed]",
      "text/plain": [
       "<Figure size 1080x360 with 1 Axes>"
      ]
     },
     "metadata": {
      "needs_background": "light"
     },
     "output_type": "display_data"
    }
   ],
   "source": [
    "# plot\n",
    "fig = plt.figure(figsize = (15,5)) \n",
    "ax = fig.add_subplot(111)\n",
    "imshow(mask, interpolation='none', cmap=cmap)\n",
    "\n",
    "# add legend\n",
    "legend_elements = [Patch(facecolor='black', edgecolor='black', label='Background'),\n",
    "                   Patch(facecolor='white', edgecolor='black', label='Text (former Foreground)', linewidth=0.5),\n",
    "                   Patch(facecolor='#C44D58', edgecolor='#C44D58', label='Building edge', linewidth=0.5)\n",
    "                  ]\n",
    "ax.legend(handles=legend_elements, loc=(1.01,0.01))\n",
    "\n",
    "plt.show()"
   ]
  },
  {
   "cell_type": "code",
   "execution_count": 58,
   "metadata": {
    "ExecuteTime": {
     "end_time": "2022-07-25T11:22:59.475517Z",
     "start_time": "2022-07-25T11:22:59.443521Z"
    }
   },
   "outputs": [
    {
     "name": "stdout",
     "output_type": "stream",
     "text": [
      "row 0 : case 1 applies\n",
      "row 1 : case 1 applies\n",
      "row 2 : case 1 applies\n",
      "row 21 : case 1 applies\n",
      "row 22 : case 1 applies\n",
      "row 23 : case 1 applies\n"
     ]
    }
   ],
   "source": [
    "# 5) if there are rows at the upper/lower border of the image which already contain '2's\n",
    "# and/or there are still rows above/below which contain '1's:\n",
    "# convert those '1's also to '2's\n",
    "\n",
    "for rowindex, row in enumerate(mask):\n",
    "    \n",
    "    # lower border\n",
    "    if rowindex > (len(mask)-4):\n",
    "                \n",
    "        # if there are rows which already have '2's (and also other values)...\n",
    "        if 2 in row:\n",
    "            print(\"row\", rowindex, \": case 1 applies\")\n",
    "            # ...convert all remaining '1's to '2's\n",
    "            mask[rowindex][mask[rowindex] == 1] = 2\n",
    "            \n",
    "        # if there are rows NOT containing '2's below rows which do contain '2's:\n",
    "        if 2 in mask[rowindex-1] and 1 in mask[rowindex]:\n",
    "            print(\"row\", rowindex, \": case 2 applies\")\n",
    "            # also convert the '1's in these rows to '2's\n",
    "            mask[rowindex][mask[rowindex] == 1] = 2\n",
    "        \n",
    "    # upper border\n",
    "    if rowindex < 4:\n",
    "                \n",
    "        # if there are rows which already have '2's (and also other values)...\n",
    "        if 2 in row:\n",
    "            print(\"row\", rowindex, \": case 1 applies\")\n",
    "            # ...convert all remaining '1's to '2's\n",
    "            mask[rowindex][mask[rowindex] == 1] = 2\n",
    "            \n",
    "        # if there are rows NOT containing '2's above rows which do contain '2's:\n",
    "        if 2 in mask[rowindex+1] and 1 in mask[rowindex]:\n",
    "            print(\"row\", rowindex, \": case 2 applies\")\n",
    "            # also convert the '1's in these rows to '2's\n",
    "            mask[rowindex][mask[rowindex] == 1] = 2    "
   ]
  },
  {
   "cell_type": "code",
   "execution_count": 59,
   "metadata": {
    "ExecuteTime": {
     "end_time": "2022-07-25T11:23:03.689159Z",
     "start_time": "2022-07-25T11:23:03.410877Z"
    },
    "scrolled": true
   },
   "outputs": [
    {
     "data": {
      "image/png": "[encoded data removed]",
      "text/plain": [
       "<Figure size 1080x360 with 1 Axes>"
      ]
     },
     "metadata": {
      "needs_background": "light"
     },
     "output_type": "display_data"
    }
   ],
   "source": [
    "# plot\n",
    "fig = plt.figure(figsize = (15,5)) \n",
    "ax = fig.add_subplot(111)\n",
    "imshow(mask, interpolation='none', cmap=cmap)\n",
    "\n",
    "# add legend\n",
    "legend_elements = [Patch(facecolor='black', edgecolor='black', label='Background'),\n",
    "                   Patch(facecolor='white', edgecolor='black', label='Text (former Foreground)', linewidth=0.5),\n",
    "                   Patch(facecolor='#C44D58', edgecolor='#C44D58', label='Building edge', linewidth=0.5)\n",
    "                  ]\n",
    "ax.legend(handles=legend_elements, loc=(1.01,0.01))\n",
    "\n",
    "plt.show()"
   ]
  },
  {
   "cell_type": "markdown",
   "metadata": {},
   "source": [
    "### 2.1.3) Export file"
   ]
  },
  {
   "cell_type": "code",
   "execution_count": 60,
   "metadata": {
    "ExecuteTime": {
     "end_time": "2022-07-25T11:23:11.195381Z",
     "start_time": "2022-07-25T11:23:11.060376Z"
    }
   },
   "outputs": [
    {
     "name": "stderr",
     "output_type": "stream",
     "text": [
      "C:\\Users\\schlegel\\Anaconda3\\lib\\site-packages\\ipykernel_launcher.py:4: DeprecationWarning: `imsave` is deprecated!\n",
      "`imsave` is deprecated in SciPy 1.0.0, and will be removed in 1.2.0.\n",
      "Use ``imageio.imwrite`` instead.\n",
      "  after removing the cwd from sys.path.\n"
     ]
    }
   ],
   "source": [
    "# Covert numpy array to image \n",
    "maskpng = Image.fromarray(mask)\n",
    "maskname = outfolder_1 + '_Mask.png'\n",
    "imsave(outfolder + '/' + maskname, maskpng)"
   ]
  },
  {
   "cell_type": "markdown",
   "metadata": {},
   "source": [
    "# 3) Plot\n",
    "Original - Three-class mask"
   ]
  },
  {
   "cell_type": "code",
   "execution_count": 61,
   "metadata": {
    "ExecuteTime": {
     "end_time": "2022-07-25T11:23:12.579763Z",
     "start_time": "2022-07-25T11:23:11.884577Z"
    }
   },
   "outputs": [
    {
     "data": {
      "image/png": "[encoded data removed]",
      "text/plain": [
       "<Figure size 1080x216 with 2 Axes>"
      ]
     },
     "metadata": {
      "needs_background": "light"
     },
     "output_type": "display_data"
    }
   ],
   "source": [
    "rgb_cv2 = cv2.imread(path+inputname)\n",
    "fig = plt.figure(figsize=(15,3))\n",
    "ax1 = fig.add_subplot(2,2,1)\n",
    "ax1.imshow(cv2.cvtColor(rgb_cv2, cv2.COLOR_BGR2RGB))\n",
    "\n",
    "ax2 = fig.add_subplot(2,2,2)\n",
    "ax2.imshow(mask, interpolation='none', cmap=cmap)\n",
    "\n",
    "fig.tight_layout()"
   ]
  },
  {
   "cell_type": "markdown",
   "metadata": {},
   "source": [
    "# 4) Create a new Bounding box polygon excluding bulding edges"
   ]
  },
  {
   "cell_type": "code",
   "execution_count": 62,
   "metadata": {
    "ExecuteTime": {
     "end_time": "2022-07-25T11:23:12.799764Z",
     "start_time": "2022-07-25T11:23:12.781766Z"
    }
   },
   "outputs": [],
   "source": [
    "# make a 3 channel image from the mask so that we can bring it together with the 3 channel rgb image\n",
    "mask_3d = np.stack((mask,mask,mask),axis=2) # 3 channel mask"
   ]
  },
  {
   "cell_type": "code",
   "execution_count": 63,
   "metadata": {
    "ExecuteTime": {
     "end_time": "2022-07-25T11:23:15.549474Z",
     "start_time": "2022-07-25T11:23:15.371615Z"
    }
   },
   "outputs": [
    {
     "data": {
      "text/plain": [
       "<matplotlib.image.AxesImage at 0x1c268b61488>"
      ]
     },
     "execution_count": 63,
     "metadata": {},
     "output_type": "execute_result"
    },
    {
     "data": {
      "image/png": "[encoded data removed]",
      "text/plain": [
       "<Figure size 1080x216 with 1 Axes>"
      ]
     },
     "metadata": {
      "needs_background": "light"
     },
     "output_type": "display_data"
    }
   ],
   "source": [
    "masked_arr = np.where(mask_3d!=2, rgb_cv2, mask_3d)\n",
    "\n",
    "# plot\n",
    "fig = plt.figure(figsize=(15,3))\n",
    "ax1 = fig.add_subplot(2,2,1)\n",
    "ax1.imshow(masked_arr)"
   ]
  },
  {
   "cell_type": "markdown",
   "metadata": {},
   "source": [
    "## 4.1) Create a new mask for the new Bounding box"
   ]
  },
  {
   "cell_type": "code",
   "execution_count": 64,
   "metadata": {
    "ExecuteTime": {
     "end_time": "2022-07-25T11:23:16.112905Z",
     "start_time": "2022-07-25T11:23:16.089880Z"
    }
   },
   "outputs": [],
   "source": [
    "mask_bb_arr = mask.copy()\n",
    "for row in mask_bb_arr:\n",
    "    for index, value in enumerate(row):\n",
    "        if value == 0 or value == 1:\n",
    "            row[index] = 1\n",
    "        if value == 2:\n",
    "            row[index] = 0"
   ]
  },
  {
   "cell_type": "code",
   "execution_count": 71,
   "metadata": {
    "ExecuteTime": {
     "end_time": "2022-07-25T11:26:29.225220Z",
     "start_time": "2022-07-25T11:26:28.980229Z"
    }
   },
   "outputs": [
    {
     "data": {
      "image/png": "[encoded data removed]",
      "text/plain": [
       "<Figure size 1800x360 with 1 Axes>"
      ]
     },
     "metadata": {
      "needs_background": "light"
     },
     "output_type": "display_data"
    }
   ],
   "source": [
    "# plot\n",
    "cmap = ListedColormap(['white','black'])\n",
    "fig = plt.figure(figsize=(25,5))\n",
    "ax = fig.add_subplot(2,2,1)\n",
    "ax.imshow(mask_bb_arr, cmap=cmap)\n",
    "\n",
    "# add legend\n",
    "legend_elements = [Patch(facecolor='white', edgecolor='black', label='Background', linewidth=0.5),\n",
    "                   Patch(facecolor='black', edgecolor='black', label='Text')\n",
    "                  ]\n",
    "ax.legend(handles=legend_elements, loc=(1.01,0.01))\n",
    "\n",
    "plt.show()"
   ]
  },
  {
   "cell_type": "code",
   "execution_count": 72,
   "metadata": {
    "ExecuteTime": {
     "end_time": "2022-07-25T11:26:37.533307Z",
     "start_time": "2022-07-25T11:26:37.413322Z"
    }
   },
   "outputs": [
    {
     "name": "stderr",
     "output_type": "stream",
     "text": [
      "C:\\Users\\schlegel\\Anaconda3\\lib\\site-packages\\ipykernel_launcher.py:2: DeprecationWarning: `imsave` is deprecated!\n",
      "`imsave` is deprecated in SciPy 1.0.0, and will be removed in 1.2.0.\n",
      "Use ``imageio.imwrite`` instead.\n",
      "  \n",
      "C:\\Users\\schlegel\\Anaconda3\\lib\\site-packages\\ipykernel_launcher.py:3: DeprecationWarning: `imsave` is deprecated!\n",
      "`imsave` is deprecated in SciPy 1.0.0, and will be removed in 1.2.0.\n",
      "Use ``imageio.imwrite`` instead.\n",
      "  This is separate from the ipykernel package so we can avoid doing imports until\n"
     ]
    }
   ],
   "source": [
    "# export to tif file\n",
    "imsave(outfolder + '/' + outfolder_1+'_withoutgeoreference.tif', masked_arr)\n",
    "imsave(outfolder + '/' + outfolder_1+'_Mask_BB.tif', mask_bb_arr)"
   ]
  },
  {
   "cell_type": "markdown",
   "metadata": {},
   "source": [
    "As GDAL flips the output upside down, a worldfile has to be generated."
   ]
  },
  {
   "cell_type": "code",
   "execution_count": 34,
   "metadata": {
    "ExecuteTime": {
     "end_time": "2022-07-22T09:55:14.150956Z",
     "start_time": "2022-07-22T09:55:13.509738Z"
    }
   },
   "outputs": [],
   "source": [
    "# open file\n",
    "masked_arr_ng = gdal.Open(outfolder + '/' + outfolder_1+'_withoutgeoreference.tif', gdal.GA_Update)\n",
    "\n",
    "# get the GeoTransform as a tuple\n",
    "gt = masked_arr_ng.GetGeoTransform()\n",
    "\n",
    "# change gt[5] to negative while flipping the image\n",
    "gt_new = (gt[0], gt[1], gt[2], gt[3], gt[4], -1 * gt[5])\n",
    "\n",
    "# set the new GeoTransform, effectively flipping the image\n",
    "masked_arr_ng.SetGeoTransform(gt_new)\n",
    "\n",
    "srcband = masked_arr_ng.GetRasterBand(1)"
   ]
  },
  {
   "cell_type": "code",
   "execution_count": 35,
   "metadata": {
    "ExecuteTime": {
     "end_time": "2022-07-22T09:55:40.982781Z",
     "start_time": "2022-07-22T09:55:40.464961Z"
    }
   },
   "outputs": [],
   "source": [
    "# Path to the generated mask layer\n",
    "mask_ds = gdal.Open(outfolder + '/' + outfolder_1+\"_Mask_BB.tif\")\n",
    "maskband = mask_ds.GetRasterBand(1)"
   ]
  },
  {
   "cell_type": "code",
   "execution_count": 36,
   "metadata": {
    "ExecuteTime": {
     "end_time": "2022-07-22T09:56:04.988554Z",
     "start_time": "2022-07-22T09:55:57.173640Z"
    }
   },
   "outputs": [],
   "source": [
    "# create output datasource\n",
    "dst_layername = outfolder + '/' + outfolder_1+'_mask_BB.shp'\n",
    "drv = ogr.GetDriverByName('ESRI Shapefile')\n",
    "if os.path.exists(dst_layername):    \n",
    "    drv.DeleteDataSource(dst_layername)\n",
    "dst_ds = drv.CreateDataSource(dst_layername)\n",
    "dst_layer = dst_ds.CreateLayer(dst_layername, geom_type=ogr.wkbPolygon)\n",
    "\n",
    "# Polygonize with the mask\n",
    "# source: https://newbedev.com/excluding-extent-when-polygonizing-raster-file-using-python\n",
    "gdal.Polygonize(srcband, maskband, dst_layer, -1, [], callback=None) \n",
    "dst_ds.Destroy()\n",
    "src_ds=None"
   ]
  },
  {
   "cell_type": "markdown",
   "metadata": {},
   "source": [
    "### 4.1.1 Plot\n",
    "Input - Bounding Box Mask"
   ]
  },
  {
   "cell_type": "code",
   "execution_count": 37,
   "metadata": {
    "ExecuteTime": {
     "end_time": "2022-07-22T09:56:59.117192Z",
     "start_time": "2022-07-22T09:56:58.320146Z"
    }
   },
   "outputs": [
    {
     "data": {
      "image/png": "[encoded data removed]",
      "text/plain": [
       "<Figure size 1080x216 with 2 Axes>"
      ]
     },
     "metadata": {
      "needs_background": "light"
     },
     "output_type": "display_data"
    }
   ],
   "source": [
    "# maskband\n",
    "ds = mask_ds.ReadAsArray()\n",
    "\n",
    "# srcband\n",
    "ds_src = srcband.ReadAsArray()\n",
    "\n",
    "fig = plt.figure(figsize=(15,3))\n",
    "ax1 = fig.add_subplot(2,2,1)\n",
    "ax1.imshow(cv2.cvtColor(ds_src, cv2.COLOR_BGR2RGB))\n",
    "\n",
    "ax2 = fig.add_subplot(2,2,2)\n",
    "ax2.imshow(ds, cmap=cmap)\n",
    "\n",
    "fig.tight_layout()"
   ]
  },
  {
   "cell_type": "markdown",
   "metadata": {},
   "source": [
    "## 4.2) Create vector file from bounding box mask"
   ]
  },
  {
   "cell_type": "code",
   "execution_count": 38,
   "metadata": {
    "ExecuteTime": {
     "end_time": "2022-07-22T09:58:12.502097Z",
     "start_time": "2022-07-22T09:58:09.744986Z"
    }
   },
   "outputs": [],
   "source": [
    "newbb = gpd.read_file(dst_layername)\n",
    "newbb.crs = \"EPSG:4326\" # define WGS84 as CRS"
   ]
  },
  {
   "cell_type": "code",
   "execution_count": 39,
   "metadata": {
    "ExecuteTime": {
     "end_time": "2022-07-22T09:58:20.670195Z",
     "start_time": "2022-07-22T09:58:19.696749Z"
    }
   },
   "outputs": [],
   "source": [
    "# dissolve individual polygons into one\n",
    "newbb['diss'] = 0\n",
    "newbb_dissolved = newbb.dissolve(by='diss')"
   ]
  },
  {
   "cell_type": "code",
   "execution_count": 40,
   "metadata": {
    "ExecuteTime": {
     "end_time": "2022-07-22T09:58:44.052291Z",
     "start_time": "2022-07-22T09:58:44.040289Z"
    }
   },
   "outputs": [],
   "source": [
    "# make a copy\n",
    "newbb_dissolved_copy = newbb_dissolved.copy()"
   ]
  },
  {
   "cell_type": "markdown",
   "metadata": {},
   "source": [
    "### 4.2.1) Rotate and move back to its origin position"
   ]
  },
  {
   "cell_type": "markdown",
   "metadata": {},
   "source": [
    "**<span style=\"color:red\">In the following cell, we have to check manually if the 2nd *shapely.affinity.rotate* function by 180° is necessary</span>**"
   ]
  },
  {
   "cell_type": "code",
   "execution_count": 41,
   "metadata": {
    "ExecuteTime": {
     "end_time": "2022-07-22T10:01:59.961265Z",
     "start_time": "2022-07-22T10:01:54.346076Z"
    }
   },
   "outputs": [],
   "source": [
    "# move origin of *newbb_dissolved* to the one of the input bb (ulx, uly)\n",
    "\n",
    "# if it is a rotated input\n",
    "if ulx == 0 and uly == 0:\n",
    "    \n",
    "    # extract id number\n",
    "    nums = re.findall(r'(\\d+(?:\\.\\d+)?)', outfolder)\n",
    "    num_id = int(nums[0])\n",
    "    \n",
    "    boundingboxes = gpd.read_file(\"data/input/improved_boundingboxes_strabo_wgs84.shp\")\n",
    "    boundingboxes = boundingboxes.sort_values(by=['id'])\n",
    "    boundingbox = boundingboxes.loc[boundingboxes['id'] == num_id]\n",
    "       \n",
    "    # 1) rotate\n",
    "    angle = boundingbox[\"inclinatio\"]\n",
    "    newbb_dissolved[\"geometry\"] = newbb_dissolved[\"geometry\"].apply(shapely.affinity.rotate, angle=angle*(-1), origin='centroid', use_radians=False)\n",
    "    newbb_dissolved[\"geometry\"] = newbb_dissolved[\"geometry\"].apply(shapely.affinity.rotate, angle=180, origin='centroid', use_radians=False)\n",
    "        \n",
    "    # 2) move\n",
    "    newbb_dissolved[\"geometry\"] = newbb_dissolved[\"geometry\"].apply(shapely.affinity.translate, xoff=float(centroidx)-newbb_dissolved_copy.centroid.x[0], yoff=float(centroidy)-newbb_dissolved_copy.centroid.y[0])\n",
    "\n",
    "# if the input is not rotated\n",
    "else:\n",
    "    \n",
    "    newbb_dissolved[\"geometry\"] = newbb_dissolved[\"geometry\"].apply(shapely.affinity.translate, xoff=ulx, yoff=uly)"
   ]
  },
  {
   "cell_type": "markdown",
   "metadata": {},
   "source": [
    "### 4.2.2) Dissolve mask\n",
    "and remove small areas (originally scattered pixels) within *newbb_dissolved*. The output will be one single polygon afterwards."
   ]
  },
  {
   "cell_type": "markdown",
   "metadata": {},
   "source": [
    "<img src=\"figures/Clutter_BB.png\" width=\"450\" align=\"left\"/>\n",
    "<img src=\"figures/Clutter_BB_dissolved.png\" width=\"450\"/>"
   ]
  },
  {
   "cell_type": "code",
   "execution_count": 42,
   "metadata": {
    "ExecuteTime": {
     "end_time": "2022-07-22T10:05:04.916573Z",
     "start_time": "2022-07-22T10:05:04.842573Z"
    }
   },
   "outputs": [],
   "source": [
    "# dissolve\n",
    "exploded = newbb_dissolved.explode()\n",
    "exploded[\"area\"] = exploded['geometry'].area\n",
    "\n",
    "# remove small areas\n",
    "filteroutsmallareas = exploded.area >= 11\n",
    "newbb_expl = exploded.loc[filteroutsmallareas]"
   ]
  },
  {
   "cell_type": "markdown",
   "metadata": {},
   "source": [
    "### 4.2.3) Export updated Bounding box polygon"
   ]
  },
  {
   "cell_type": "code",
   "execution_count": 43,
   "metadata": {
    "ExecuteTime": {
     "end_time": "2022-07-22T10:05:47.408335Z",
     "start_time": "2022-07-22T10:05:46.676179Z"
    }
   },
   "outputs": [
    {
     "data": {
      "text/plain": [
       "<matplotlib.axes._subplots.AxesSubplot at 0x2a13f465608>"
      ]
     },
     "execution_count": 43,
     "metadata": {},
     "output_type": "execute_result"
    },
    {
     "data": {
      "image/png": "[encoded data removed]",
      "text/plain": [
       "<Figure size 360x720 with 1 Axes>"
      ]
     },
     "metadata": {
      "needs_background": "light"
     },
     "output_type": "display_data"
    }
   ],
   "source": [
    "# plot\n",
    "newbb_expl.plot(figsize=(5,10))"
   ]
  },
  {
   "cell_type": "code",
   "execution_count": 44,
   "metadata": {
    "ExecuteTime": {
     "end_time": "2022-07-22T10:06:04.758821Z",
     "start_time": "2022-07-22T10:05:51.932928Z"
    }
   },
   "outputs": [],
   "source": [
    "newbb_expl.to_file(outfolder + \"/\" + outfolder_1 + \"_BB_onlyText.shp\")"
   ]
  }
 ],
 "metadata": {
  "kernelspec": {
   "display_name": "Python 3",
   "language": "python",
   "name": "python3"
  },
  "language_info": {
   "codemirror_mode": {
    "name": "ipython",
    "version": 3
   },
   "file_extension": ".py",
   "mimetype": "text/x-python",
   "name": "python",
   "nbconvert_exporter": "python",
   "pygments_lexer": "ipython3",
   "version": "3.7.7"
  },
  "toc": {
   "base_numbering": 1,
   "nav_menu": {},
   "number_sections": false,
   "sideBar": true,
   "skip_h1_title": false,
   "title_cell": "Table of Contents",
   "title_sidebar": "Contents",
   "toc_cell": false,
   "toc_position": {},
   "toc_section_display": true,
   "toc_window_display": true
  }
 },
 "nbformat": 4,
 "nbformat_minor": 4
}
